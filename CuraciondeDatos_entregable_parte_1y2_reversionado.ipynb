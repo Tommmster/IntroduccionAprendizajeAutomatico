{
  "cells": [
    {
      "cell_type": "markdown",
      "metadata": {
        "id": "view-in-github",
        "colab_type": "text"
      },
      "source": [
        "<a href=\"https://colab.research.google.com/github/Tommmster/IntroduccionAprendizajeAutomatico/blob/master/CuraciondeDatos_entregable_parte_1y2_reversionado.ipynb\" target=\"_parent\"><img src=\"https://colab.research.google.com/assets/colab-badge.svg\" alt=\"Open In Colab\"/></a>"
      ]
    },
    {
      "cell_type": "markdown",
      "id": "e0ff301b-5595-4a0b-a2b8-3d5609a0485d",
      "metadata": {
        "id": "e0ff301b-5595-4a0b-a2b8-3d5609a0485d"
      },
      "source": [
        "**Diplomatura en Ciencia de Datos, Aprendizaje Automático y sus Aplicaciones**\n",
        "\n",
        "**Exploración y Curación de Datos**\n",
        "\n",
        "*Edición 2022*\n",
        "\n",
        "----\n",
        "\n",
        "# Trabajo práctico entregable - parte 1\n",
        "\n",
        "En esta notebook, vamos a cargar el conjunto de datos de [la compentencia Kaggle](https://www.kaggle.com/dansbecker/melbourne-housing-snapshot) sobre estimación de precios de ventas de propiedades en Melbourne, Australia.\n",
        "\n",
        "Utilizaremos el conjunto de datos reducido producido por [DanB](https://www.kaggle.com/dansbecker). Hemos subido una copia a un servidor de la Universidad Nacional de Córdoba para facilitar su acceso remoto."
      ]
    },
    {
      "cell_type": "code",
      "execution_count": 9,
      "id": "f5ac98f7-51f3-4f91-ac49-60ef5fe249be",
      "metadata": {
        "id": "f5ac98f7-51f3-4f91-ac49-60ef5fe249be",
        "colab": {
          "base_uri": "https://localhost:8080/"
        },
        "outputId": "729a3dea-8492-4fd3-a9a2-033d65a2f705"
      },
      "outputs": [
        {
          "output_type": "stream",
          "name": "stdout",
          "text": [
            "Looking in indexes: https://pypi.org/simple, https://us-python.pkg.dev/colab-wheels/public/simple/\n",
            "Requirement already satisfied: decouple in /usr/local/lib/python3.7/dist-packages (0.0.7)\n"
          ]
        }
      ],
      "source": [
        "import matplotlib\n",
        "import matplotlib.pyplot as plt\n",
        "import numpy\n",
        "import pandas\n",
        "\n",
        "import seaborn\n",
        "seaborn.set_context('talk')\n",
        "\n",
        "\n",
        "#!pip install matplotlib-venn\n",
        "!pip install decouple\n",
        "\n",
        "#from decouple import config\n",
        "from sqlalchemy import create_engine, text"
      ]
    },
    {
      "cell_type": "code",
      "execution_count": 10,
      "id": "ce478cbd-0f49-4f15-8dc5-1fe1a5b39f17",
      "metadata": {
        "id": "ce478cbd-0f49-4f15-8dc5-1fe1a5b39f17",
        "colab": {
          "base_uri": "https://localhost:8080/",
          "height": 36
        },
        "outputId": "e25f332e-a6ad-47e0-ba59-356ae92310c0"
      },
      "outputs": [
        {
          "output_type": "execute_result",
          "data": {
            "text/plain": [
              "'5.5.0'"
            ],
            "application/vnd.google.colaboratory.intrinsic+json": {
              "type": "string"
            }
          },
          "metadata": {},
          "execution_count": 10
        }
      ],
      "source": [
        "import plotly\n",
        "plotly.__version__\n",
        "# Make sure it's 4.14.3"
      ]
    },
    {
      "cell_type": "code",
      "execution_count": 11,
      "id": "5ba8bfd5-199a-4390-a5b4-11ec9669b3e1",
      "metadata": {
        "id": "5ba8bfd5-199a-4390-a5b4-11ec9669b3e1"
      },
      "outputs": [],
      "source": [
        "# melb_data es un archivo que contiene las propiedades a aquilar con descripcion de las mismas , habitaciones, precio, vendedor , fecha \n",
        "melb_df = pandas.read_csv(\n",
        "    'https://cs.famaf.unc.edu.ar/~mteruel/datasets/diplodatos/melb_data.csv')\n"
      ]
    },
    {
      "cell_type": "code",
      "source": [
        "melb_df.columns"
      ],
      "metadata": {
        "colab": {
          "base_uri": "https://localhost:8080/"
        },
        "id": "9y4TI08d2hWf",
        "outputId": "176c9d65-56c7-4e8a-f55f-fbdc98b7d4dd"
      },
      "id": "9y4TI08d2hWf",
      "execution_count": 12,
      "outputs": [
        {
          "output_type": "execute_result",
          "data": {
            "text/plain": [
              "Index(['Suburb', 'Address', 'Rooms', 'Type', 'Price', 'Method', 'SellerG',\n",
              "       'Date', 'Distance', 'Postcode', 'Bedroom2', 'Bathroom', 'Car',\n",
              "       'Landsize', 'BuildingArea', 'YearBuilt', 'CouncilArea', 'Lattitude',\n",
              "       'Longtitude', 'Regionname', 'Propertycount'],\n",
              "      dtype='object')"
            ]
          },
          "metadata": {},
          "execution_count": 12
        }
      ]
    },
    {
      "cell_type": "markdown",
      "id": "6cffe5bf-2498-498c-aa06-3e61422d91e6",
      "metadata": {
        "id": "6cffe5bf-2498-498c-aa06-3e61422d91e6"
      },
      "source": [
        "## Ejercicio 1 SQL: \n",
        "\n",
        "1. Crear una base de datos en SQLite utilizando la libreria [SQLalchemy](https://stackoverflow.com/questions/2268050/execute-sql-from-file-in-sqlalchemy).\n",
        "https://docs.sqlalchemy.org/en/14/core/engines.html#sqlite\n",
        "\n",
        "2. Ingestar los datos provistos en 'https://cs.famaf.unc.edu.ar/~mteruel/datasets/diplodatos/melb_data.csv' en una tabla y el dataset generado en clase con datos de airbnb y sus precios por codigo postal en otra.\n",
        "\n",
        "3. Implementar consultas en SQL que respondan con la siguiente información:\n",
        "\n",
        "    - cantidad de registros totales por ciudad.\n",
        "    - cantidad de registros totales por barrio y ciudad.\n",
        "\n",
        "4. Combinar los datasets de ambas tablas ingestadas utilizando el comando JOIN de SQL  para obtener un resultado similar a lo realizado con Pandas en clase.  \n",
        "\n"
      ]
    },
    {
      "cell_type": "markdown",
      "id": "c5468c4f-5cdf-4df4-a317-60e1fb0c00db",
      "metadata": {
        "id": "c5468c4f-5cdf-4df4-a317-60e1fb0c00db"
      },
      "source": [
        "## Ejercicio 2: \n",
        "\n",
        "1. Seleccionar un subconjunto de columnas que les parezcan relevantes al problema de predicción del valor de la propiedad. Justificar las columnas seleccionadas y las que no lo fueron.\n",
        " - Eliminar los valores extremos que no sean relevantes para la predicción de valores de las propiedades.\n",
        "\n",
        "2. Agregar información adicional respectiva al entorno de una propiedad a partir del [conjunto de datos de AirBnB](https://www.kaggle.com/tylerx/melbourne-airbnb-open-data?select=cleansed_listings_dec18.csv) utilizado en el práctico. \n",
        "  1. Seleccionar qué variables agregar y qué combinaciones aplicar a cada una. Por ejemplo, pueden utilizar solo la columna `price`, o aplicar múltiples transformaciones como la mediana o el mínimo.\n",
        "  1. Utilizar la variable zipcode para unir los conjuntos de datos. Sólo incluir los zipcodes que tengan una cantidad mínima de registros (a elección) como para que la información agregada sea relevante.\n",
        "  2. Investigar al menos otras 2 variables que puedan servir para combinar los datos, y justificar si serían adecuadas o no. Pueden asumir que cuentan con la ayuda de anotadores expertos para encontrar equivalencias entre barrios o direcciones, o que cuentan con algoritmos para encontrar las n ubicaciones más cercanas a una propiedad a partir de sus coordenadas geográficas. **NO** es necesario que realicen la implementación.\n",
        "\n",
        "Pueden leer otras columnas del conjunto de AirBnB además de las que están en `interesting_cols`, si les parecen relevantes."
      ]
    },
    {
      "cell_type": "markdown",
      "source": [
        "# Dudas\n",
        "2.1.1 No entendemos a qué transfomaciones se hace referencia. ¿Cuál es el punto del ejercicio? ¿Proveer un valor de precio por zipcode?\n",
        "\n",
        "2.2.2 \n",
        "- ¿Cómo podemos decidir el valor mínimo de ocurrencias por zipcode? Se habla de 30 ocurrencias.\n",
        "- Preguntar si a partir de este punto generamos el archivo para seguir en el Entregable 2\n",
        "\n",
        "2.2.3 "
      ],
      "metadata": {
        "id": "r4ZocR-IlZSi"
      },
      "id": "r4ZocR-IlZSi"
    },
    {
      "cell_type": "markdown",
      "id": "c5303f27-3b15-441b-b291-8caf1c734139",
      "metadata": {
        "id": "c5303f27-3b15-441b-b291-8caf1c734139"
      },
      "source": [
        "## Ejercicio 3:\n",
        "\n",
        "Crear y guardar un nuevo conjunto de datos con todas las transformaciones realizadas anteriormente."
      ]
    },
    {
      "cell_type": "markdown",
      "id": "abfd3eeb-d466-424b-b58e-d1364ac39206",
      "metadata": {
        "id": "abfd3eeb-d466-424b-b58e-d1364ac39206"
      },
      "source": [
        "## Ejercicios opcionales:\n",
        "\n",
        "1. Armar un script en python (archivo .py) [ETL](https://towardsdatascience.com/what-to-log-from-python-etl-pipelines-9e0cfe29950e) que corra los pasos de extraccion, transformacion y carga, armando una funcion para cada etapa del proceso y luego un main que corra todos los pasos requeridos.\n",
        "\n",
        "2. Armar un DAG en Apache Airflow que corra el ETL. (https://airflow.apache.org/docs/apache-airflow/stable/tutorial.html)"
      ]
    },
    {
      "cell_type": "markdown",
      "source": [
        "# Ejercicio 1 SQL *Resolucion*\n"
      ],
      "metadata": {
        "id": "t50-CKAiKjJw"
      },
      "id": "t50-CKAiKjJw"
    },
    {
      "cell_type": "markdown",
      "source": [
        "*1. Crear una base de datos en SQLite*"
      ],
      "metadata": {
        "id": "xww0ef2wL-fQ"
      },
      "id": "xww0ef2wL-fQ"
    },
    {
      "cell_type": "code",
      "execution_count": null,
      "id": "5d210b95-836f-45ac-a52d-1a4dafdb447a",
      "metadata": {
        "id": "5d210b95-836f-45ac-a52d-1a4dafdb447a"
      },
      "outputs": [],
      "source": [
        "import pandas as pd\n",
        "from sqlalchemy import create_engine, text\n",
        "\n",
        "# crea una conexion a la base de datos BDCuracion\n",
        "engine = create_engine('sqlite:///BDCuracion.db', echo=True)"
      ]
    },
    {
      "cell_type": "markdown",
      "source": [
        "2. *Ingestar los datos provistos en 'https://cs.famaf.unc.edu.ar/~mteruel/datasets/diplodatos/melb_data.csv' en una tabla y el dataset generado en clase con datos de airbnb y sus precios por codigo postal en otra.*"
      ],
      "metadata": {
        "id": "7XaB5KOYML8t"
      },
      "id": "7XaB5KOYML8t"
    },
    {
      "cell_type": "code",
      "source": [
        "melb_df.to_sql('melbourn', con=engine, if_exists=\"replace\")"
      ],
      "metadata": {
        "id": "Kn6ErtCyNNf3",
        "colab": {
          "base_uri": "https://localhost:8080/"
        },
        "outputId": "3c81f119-a077-48e6-e1bc-4e12252e8ad0"
      },
      "id": "Kn6ErtCyNNf3",
      "execution_count": null,
      "outputs": [
        {
          "output_type": "stream",
          "name": "stdout",
          "text": [
            "2022-06-20 14:53:33,181 INFO sqlalchemy.engine.Engine PRAGMA main.table_info(\"melbourn\")\n",
            "2022-06-20 14:53:33,182 INFO sqlalchemy.engine.Engine [raw sql] ()\n",
            "2022-06-20 14:53:33,185 INFO sqlalchemy.engine.Engine PRAGMA temp.table_info(\"melbourn\")\n",
            "2022-06-20 14:53:33,188 INFO sqlalchemy.engine.Engine [raw sql] ()\n",
            "2022-06-20 14:53:33,196 INFO sqlalchemy.engine.Engine BEGIN (implicit)\n",
            "2022-06-20 14:53:33,199 INFO sqlalchemy.engine.Engine \n",
            "CREATE TABLE melbourn (\n",
            "\t\"index\" BIGINT, \n",
            "\t\"Suburb\" TEXT, \n",
            "\t\"Address\" TEXT, \n",
            "\t\"Rooms\" BIGINT, \n",
            "\t\"Type\" TEXT, \n",
            "\t\"Price\" FLOAT, \n",
            "\t\"Method\" TEXT, \n",
            "\t\"SellerG\" TEXT, \n",
            "\t\"Date\" TEXT, \n",
            "\t\"Distance\" FLOAT, \n",
            "\t\"Postcode\" FLOAT, \n",
            "\t\"Bedroom2\" FLOAT, \n",
            "\t\"Bathroom\" FLOAT, \n",
            "\t\"Car\" FLOAT, \n",
            "\t\"Landsize\" FLOAT, \n",
            "\t\"BuildingArea\" FLOAT, \n",
            "\t\"YearBuilt\" FLOAT, \n",
            "\t\"CouncilArea\" TEXT, \n",
            "\t\"Lattitude\" FLOAT, \n",
            "\t\"Longtitude\" FLOAT, \n",
            "\t\"Regionname\" TEXT, \n",
            "\t\"Propertycount\" FLOAT\n",
            ")\n",
            "\n",
            "\n",
            "2022-06-20 14:53:33,201 INFO sqlalchemy.engine.Engine [no key 0.00129s] ()\n",
            "2022-06-20 14:53:33,214 INFO sqlalchemy.engine.Engine CREATE INDEX ix_melbourn_index ON melbourn (\"index\")\n",
            "2022-06-20 14:53:33,217 INFO sqlalchemy.engine.Engine [no key 0.00356s] ()\n",
            "2022-06-20 14:53:33,230 INFO sqlalchemy.engine.Engine COMMIT\n",
            "2022-06-20 14:53:33,251 INFO sqlalchemy.engine.Engine BEGIN (implicit)\n",
            "2022-06-20 14:53:33,767 INFO sqlalchemy.engine.Engine INSERT INTO melbourn (\"index\", \"Suburb\", \"Address\", \"Rooms\", \"Type\", \"Price\", \"Method\", \"SellerG\", \"Date\", \"Distance\", \"Postcode\", \"Bedroom2\", \"Bathroom\", \"Car\", \"Landsize\", \"BuildingArea\", \"YearBuilt\", \"CouncilArea\", \"Lattitude\", \"Longtitude\", \"Regionname\", \"Propertycount\") VALUES (?, ?, ?, ?, ?, ?, ?, ?, ?, ?, ?, ?, ?, ?, ?, ?, ?, ?, ?, ?, ?, ?)\n",
            "2022-06-20 14:53:33,768 INFO sqlalchemy.engine.Engine [generated in 0.48032s] ((0, 'Abbotsford', '85 Turner St', 2, 'h', 1480000.0, 'S', 'Biggin', '3/12/2016', 2.5, 3067.0, 2.0, 1.0, 1.0, 202.0, None, None, 'Yarra', -37.7996, 144.9984, 'Northern Metropolitan', 4019.0), (1, 'Abbotsford', '25 Bloomburg St', 2, 'h', 1035000.0, 'S', 'Biggin', '4/02/2016', 2.5, 3067.0, 2.0, 1.0, 0.0, 156.0, 79.0, 1900.0, 'Yarra', -37.8079, 144.9934, 'Northern Metropolitan', 4019.0), (2, 'Abbotsford', '5 Charles St', 3, 'h', 1465000.0, 'SP', 'Biggin', '4/03/2017', 2.5, 3067.0, 3.0, 2.0, 0.0, 134.0, 150.0, 1900.0, 'Yarra', -37.8093, 144.9944, 'Northern Metropolitan', 4019.0), (3, 'Abbotsford', '40 Federation La', 3, 'h', 850000.0, 'PI', 'Biggin', '4/03/2017', 2.5, 3067.0, 3.0, 2.0, 1.0, 94.0, None, None, 'Yarra', -37.7969, 144.9969, 'Northern Metropolitan', 4019.0), (4, 'Abbotsford', '55a Park St', 4, 'h', 1600000.0, 'VB', 'Nelson', '4/06/2016', 2.5, 3067.0, 3.0, 1.0, 2.0, 120.0, 142.0, 2014.0, 'Yarra', -37.8072, 144.9941, 'Northern Metropolitan', 4019.0), (5, 'Abbotsford', '129 Charles St', 2, 'h', 941000.0, 'S', 'Jellis', '7/05/2016', 2.5, 3067.0, 2.0, 1.0, 0.0, 181.0, None, None, 'Yarra', -37.8041, 144.9953, 'Northern Metropolitan', 4019.0), (6, 'Abbotsford', '124 Yarra St', 3, 'h', 1876000.0, 'S', 'Nelson', '7/05/2016', 2.5, 3067.0, 4.0, 2.0, 0.0, 245.0, 210.0, 1910.0, 'Yarra', -37.8024, 144.9993, 'Northern Metropolitan', 4019.0), (7, 'Abbotsford', '98 Charles St', 2, 'h', 1636000.0, 'S', 'Nelson', '8/10/2016', 2.5, 3067.0, 2.0, 1.0, 2.0, 256.0, 107.0, 1890.0, 'Yarra', -37.806, 144.9954, 'Northern Metropolitan', 4019.0)  ... displaying 10 of 13580 total bound parameter sets ...  (13578, 'Williamstown', '96 Verdon St', 4, 'h', 2500000.0, 'PI', 'Sweeney', '26/08/2017', 6.8, 3016.0, 4.0, 1.0, 5.0, 866.0, 157.0, 1920.0, None, -37.85908, 144.89299, 'Western Metropolitan', 6380.0), (13579, 'Yarraville', '6 Agnes St', 4, 'h', 1285000.0, 'SP', 'Village', '26/08/2017', 6.3, 3013.0, 4.0, 1.0, 1.0, 362.0, 112.0, 1920.0, None, -37.81188, 144.88449, 'Western Metropolitan', 6543.0))\n",
            "2022-06-20 14:53:33,871 INFO sqlalchemy.engine.Engine COMMIT\n"
          ]
        }
      ]
    },
    {
      "cell_type": "code",
      "source": [
        "from google.colab import drive\n",
        "drive.mount('/content/drive')"
      ],
      "metadata": {
        "id": "1euTn05OMWtg",
        "colab": {
          "base_uri": "https://localhost:8080/",
          "height": 342
        },
        "outputId": "c59f0eac-516b-42c6-dcf2-36d1c6aaa661"
      },
      "id": "1euTn05OMWtg",
      "execution_count": null,
      "outputs": [
        {
          "output_type": "error",
          "ename": "MessageError",
          "evalue": "ignored",
          "traceback": [
            "\u001b[0;31m---------------------------------------------------------------------------\u001b[0m",
            "\u001b[0;31mMessageError\u001b[0m                              Traceback (most recent call last)",
            "\u001b[0;32m<ipython-input-8-d5df0069828e>\u001b[0m in \u001b[0;36m<module>\u001b[0;34m()\u001b[0m\n\u001b[1;32m      1\u001b[0m \u001b[0;32mfrom\u001b[0m \u001b[0mgoogle\u001b[0m\u001b[0;34m.\u001b[0m\u001b[0mcolab\u001b[0m \u001b[0;32mimport\u001b[0m \u001b[0mdrive\u001b[0m\u001b[0;34m\u001b[0m\u001b[0;34m\u001b[0m\u001b[0m\n\u001b[0;32m----> 2\u001b[0;31m \u001b[0mdrive\u001b[0m\u001b[0;34m.\u001b[0m\u001b[0mmount\u001b[0m\u001b[0;34m(\u001b[0m\u001b[0;34m'/content/drive'\u001b[0m\u001b[0;34m)\u001b[0m\u001b[0;34m\u001b[0m\u001b[0;34m\u001b[0m\u001b[0m\n\u001b[0m",
            "\u001b[0;32m/usr/local/lib/python3.7/dist-packages/google/colab/drive.py\u001b[0m in \u001b[0;36mmount\u001b[0;34m(mountpoint, force_remount, timeout_ms)\u001b[0m\n\u001b[1;32m    107\u001b[0m       \u001b[0mforce_remount\u001b[0m\u001b[0;34m=\u001b[0m\u001b[0mforce_remount\u001b[0m\u001b[0;34m,\u001b[0m\u001b[0;34m\u001b[0m\u001b[0;34m\u001b[0m\u001b[0m\n\u001b[1;32m    108\u001b[0m       \u001b[0mtimeout_ms\u001b[0m\u001b[0;34m=\u001b[0m\u001b[0mtimeout_ms\u001b[0m\u001b[0;34m,\u001b[0m\u001b[0;34m\u001b[0m\u001b[0;34m\u001b[0m\u001b[0m\n\u001b[0;32m--> 109\u001b[0;31m       ephemeral=True)\n\u001b[0m\u001b[1;32m    110\u001b[0m \u001b[0;34m\u001b[0m\u001b[0m\n\u001b[1;32m    111\u001b[0m \u001b[0;34m\u001b[0m\u001b[0m\n",
            "\u001b[0;32m/usr/local/lib/python3.7/dist-packages/google/colab/drive.py\u001b[0m in \u001b[0;36m_mount\u001b[0;34m(mountpoint, force_remount, timeout_ms, ephemeral)\u001b[0m\n\u001b[1;32m    122\u001b[0m   \u001b[0;32mif\u001b[0m \u001b[0mephemeral\u001b[0m\u001b[0;34m:\u001b[0m\u001b[0;34m\u001b[0m\u001b[0;34m\u001b[0m\u001b[0m\n\u001b[1;32m    123\u001b[0m     _message.blocking_request(\n\u001b[0;32m--> 124\u001b[0;31m         'request_auth', request={'authType': 'dfs_ephemeral'}, timeout_sec=None)\n\u001b[0m\u001b[1;32m    125\u001b[0m \u001b[0;34m\u001b[0m\u001b[0m\n\u001b[1;32m    126\u001b[0m   \u001b[0mmountpoint\u001b[0m \u001b[0;34m=\u001b[0m \u001b[0m_os\u001b[0m\u001b[0;34m.\u001b[0m\u001b[0mpath\u001b[0m\u001b[0;34m.\u001b[0m\u001b[0mexpanduser\u001b[0m\u001b[0;34m(\u001b[0m\u001b[0mmountpoint\u001b[0m\u001b[0;34m)\u001b[0m\u001b[0;34m\u001b[0m\u001b[0;34m\u001b[0m\u001b[0m\n",
            "\u001b[0;32m/usr/local/lib/python3.7/dist-packages/google/colab/_message.py\u001b[0m in \u001b[0;36mblocking_request\u001b[0;34m(request_type, request, timeout_sec, parent)\u001b[0m\n\u001b[1;32m    173\u001b[0m   request_id = send_request(\n\u001b[1;32m    174\u001b[0m       request_type, request, parent=parent, expect_reply=True)\n\u001b[0;32m--> 175\u001b[0;31m   \u001b[0;32mreturn\u001b[0m \u001b[0mread_reply_from_input\u001b[0m\u001b[0;34m(\u001b[0m\u001b[0mrequest_id\u001b[0m\u001b[0;34m,\u001b[0m \u001b[0mtimeout_sec\u001b[0m\u001b[0;34m)\u001b[0m\u001b[0;34m\u001b[0m\u001b[0;34m\u001b[0m\u001b[0m\n\u001b[0m",
            "\u001b[0;32m/usr/local/lib/python3.7/dist-packages/google/colab/_message.py\u001b[0m in \u001b[0;36mread_reply_from_input\u001b[0;34m(message_id, timeout_sec)\u001b[0m\n\u001b[1;32m    104\u001b[0m         reply.get('colab_msg_id') == message_id):\n\u001b[1;32m    105\u001b[0m       \u001b[0;32mif\u001b[0m \u001b[0;34m'error'\u001b[0m \u001b[0;32min\u001b[0m \u001b[0mreply\u001b[0m\u001b[0;34m:\u001b[0m\u001b[0;34m\u001b[0m\u001b[0;34m\u001b[0m\u001b[0m\n\u001b[0;32m--> 106\u001b[0;31m         \u001b[0;32mraise\u001b[0m \u001b[0mMessageError\u001b[0m\u001b[0;34m(\u001b[0m\u001b[0mreply\u001b[0m\u001b[0;34m[\u001b[0m\u001b[0;34m'error'\u001b[0m\u001b[0;34m]\u001b[0m\u001b[0;34m)\u001b[0m\u001b[0;34m\u001b[0m\u001b[0;34m\u001b[0m\u001b[0m\n\u001b[0m\u001b[1;32m    107\u001b[0m       \u001b[0;32mreturn\u001b[0m \u001b[0mreply\u001b[0m\u001b[0;34m.\u001b[0m\u001b[0mget\u001b[0m\u001b[0;34m(\u001b[0m\u001b[0;34m'data'\u001b[0m\u001b[0;34m,\u001b[0m \u001b[0;32mNone\u001b[0m\u001b[0;34m)\u001b[0m\u001b[0;34m\u001b[0m\u001b[0;34m\u001b[0m\u001b[0m\n\u001b[1;32m    108\u001b[0m \u001b[0;34m\u001b[0m\u001b[0m\n",
            "\u001b[0;31mMessageError\u001b[0m: Error: credential propagation was unsuccessful"
          ]
        }
      ]
    },
    {
      "cell_type": "code",
      "source": [
        "#Aqui antes debemos subir el archivo generado en clase , el cual contiene los precios por codigos postal obtenido de la competencia de Kaggle\n",
        "airbnb_df = pd.read_csv(\n",
        "    '/content/airbnb_price_by_zipcode.csv')"
      ],
      "metadata": {
        "id": "0m1ExnWIOo0V"
      },
      "id": "0m1ExnWIOo0V",
      "execution_count": null,
      "outputs": []
    },
    {
      "cell_type": "code",
      "source": [
        "airbnb_df.to_sql('airbnb', con=engine, if_exists=\"replace\")"
      ],
      "metadata": {
        "id": "c-5v9kpSPHPc"
      },
      "id": "c-5v9kpSPHPc",
      "execution_count": null,
      "outputs": []
    },
    {
      "cell_type": "markdown",
      "source": [
        "3. *Implementar consultas en SQL que respondan con la siguiente información:\n",
        "Cantidad de registros totales por ciudad. Cantidad de registros totales por barrio y ciudad.*"
      ],
      "metadata": {
        "id": "I5LdrwVtQGBW"
      },
      "id": "I5LdrwVtQGBW"
    },
    {
      "cell_type": "code",
      "source": [
        "query1 = 'SELECT COUNT(1) , CouncilArea FROM melbourn GROUP BY CouncilArea '\n",
        "query2 = 'SELECT COUNT(1) ,  Suburb, CouncilArea FROM melbourn GROUP BY Suburb, CouncilArea '\n",
        "\n",
        "queries = [query1, query2]"
      ],
      "metadata": {
        "id": "xiInjSn6Q49O"
      },
      "id": "xiInjSn6Q49O",
      "execution_count": null,
      "outputs": []
    },
    {
      "cell_type": "code",
      "source": [
        "with engine.connect() as con:\n",
        "    for query in queries:\n",
        "      rs = con.execute(query)\n",
        "      print(query)\n",
        "      for row in rs:\n",
        "          print(row)\n",
        "\n",
        "      print('\\n\\n')"
      ],
      "metadata": {
        "id": "NMSnEWcATbcN"
      },
      "id": "NMSnEWcATbcN",
      "execution_count": null,
      "outputs": []
    },
    {
      "cell_type": "markdown",
      "source": [
        "4. *Combinar los datasets de ambas tablas ingestadas utilizando el comando JOIN de SQL para obtener un resultado similar a lo realizado con Pandas en clase.*"
      ],
      "metadata": {
        "id": "cRkBgUsXilX2"
      },
      "id": "cRkBgUsXilX2"
    },
    {
      "cell_type": "code",
      "source": [
        "query3= 'SELECT Suburb, Address, Rooms, Type, Price, Method, SellerG,Date, Distance, Postcode, Bedroom2, Bathroom, Car,  Landsize, BuildingArea, YearBuilt, CouncilArea, Lattitude,  Longtitude, Regionname, Propertycount, zipcode, airbnb_price_mean, airbnb_record_count, airbnb_weekly_price_mean, airbnb_monthly_price_mean FROM melbourn  LEFT JOIN airbnb on melbourn.Postcode=airbnb.zipcode'\n",
        "\n",
        "with engine.connect() as con:\n",
        "      rs = con.execute(query3)\n",
        "      print(query)\n",
        "      for row in rs:\n",
        "          print(row)\n",
        "\n",
        "      print('\\n\\n')\n"
      ],
      "metadata": {
        "id": "RkMDJsVmitss"
      },
      "id": "RkMDJsVmitss",
      "execution_count": null,
      "outputs": []
    },
    {
      "cell_type": "markdown",
      "source": [
        "# Ejercicio 2 Resolución"
      ],
      "metadata": {
        "id": "HtczWTeqk0Zd"
      },
      "id": "HtczWTeqk0Zd"
    },
    {
      "cell_type": "markdown",
      "source": [
        " 1. Seleccionar un subconjunto de columnas que les parezcan relevantes al problema de predicción del valor de la propiedad. Justificar las columnas seleccionadas y las que no lo fueron.\n",
        " \n"
      ],
      "metadata": {
        "id": "CHSMUUeelCBz"
      },
      "id": "CHSMUUeelCBz"
    },
    {
      "cell_type": "markdown",
      "source": [
        "## Eliminar los valores extremos que no sean relevantes para la predicción de valores de las propiedades."
      ],
      "metadata": {
        "id": "waRr366T_RV_"
      },
      "id": "waRr366T_RV_"
    },
    {
      "cell_type": "code",
      "source": [
        "import matplotlib.pyplot as plt\n",
        "import seaborn as sns\n",
        "sns.set_context('talk')\n",
        "import plotly.express as px\n",
        "import numpy\n",
        "import pandas\n",
        "\n",
        "from plotly.offline import download_plotlyjs, init_notebook_mode, plot, iplot\n",
        "init_notebook_mode(connected=True)\n",
        "\n",
        "%matplotlib inline"
      ],
      "metadata": {
        "id": "tzq2nF2-p63Z",
        "colab": {
          "base_uri": "https://localhost:8080/",
          "height": 17
        },
        "outputId": "c57b5179-18ff-4e05-d82e-6c9f517b888c"
      },
      "id": "tzq2nF2-p63Z",
      "execution_count": 13,
      "outputs": [
        {
          "output_type": "display_data",
          "data": {
            "text/html": [
              "        <script type=\"text/javascript\">\n",
              "        window.PlotlyConfig = {MathJaxConfig: 'local'};\n",
              "        if (window.MathJax) {MathJax.Hub.Config({SVG: {font: \"STIX-Web\"}});}\n",
              "        if (typeof require !== 'undefined') {\n",
              "        require.undef(\"plotly\");\n",
              "        requirejs.config({\n",
              "            paths: {\n",
              "                'plotly': ['https://cdn.plot.ly/plotly-2.8.3.min']\n",
              "            }\n",
              "        });\n",
              "        require(['plotly'], function(Plotly) {\n",
              "            window._Plotly = Plotly;\n",
              "        });\n",
              "        }\n",
              "        </script>\n",
              "        "
            ]
          },
          "metadata": {}
        }
      ]
    },
    {
      "cell_type": "markdown",
      "source": [
        "Nos debemos centrar en la tarea de estimar el precio de cada propiedad, para ellos debemos conocer las caracteristicas de las mismas y el primer paso a realizar es una exploración de los datos y las distribuciones de sus variables, concocer si estas variables tienen nulos o valor cero, si esto es esperable o no, a los fines de conocer si son validas o no para ser elegidas para mi data set. Se aclara lo siguiente:\n",
        "\n",
        "|melb_df | Contiene los datos de Melbourn melb_data.csv|\n",
        "|--------|---------------------------------|\n",
        "|airbnb_df | Contiene los datos de Airbnb |\n"
      ],
      "metadata": {
        "id": "npa-kCmZvnN_"
      },
      "id": "npa-kCmZvnN_"
    },
    {
      "cell_type": "code",
      "source": [
        "#seteamos visualizacion \n",
        "pd.options.display.float_format = '{:.2f}'.format\n",
        "\n",
        "pd.set_option('display.float_format', lambda x: '%.2f' % x)"
      ],
      "metadata": {
        "id": "56JwIPH4qHlA"
      },
      "id": "56JwIPH4qHlA",
      "execution_count": 14,
      "outputs": []
    },
    {
      "cell_type": "code",
      "source": [
        "#melb_df.describe() solo muestra variables numéricas\n",
        "melb_df.info()"
      ],
      "metadata": {
        "id": "SMj30yvA3T5c",
        "colab": {
          "base_uri": "https://localhost:8080/"
        },
        "outputId": "4c05ebbf-e7f1-4589-a7f8-b0710c84d805"
      },
      "id": "SMj30yvA3T5c",
      "execution_count": 15,
      "outputs": [
        {
          "output_type": "stream",
          "name": "stdout",
          "text": [
            "<class 'pandas.core.frame.DataFrame'>\n",
            "RangeIndex: 13580 entries, 0 to 13579\n",
            "Data columns (total 21 columns):\n",
            " #   Column         Non-Null Count  Dtype  \n",
            "---  ------         --------------  -----  \n",
            " 0   Suburb         13580 non-null  object \n",
            " 1   Address        13580 non-null  object \n",
            " 2   Rooms          13580 non-null  int64  \n",
            " 3   Type           13580 non-null  object \n",
            " 4   Price          13580 non-null  float64\n",
            " 5   Method         13580 non-null  object \n",
            " 6   SellerG        13580 non-null  object \n",
            " 7   Date           13580 non-null  object \n",
            " 8   Distance       13580 non-null  float64\n",
            " 9   Postcode       13580 non-null  float64\n",
            " 10  Bedroom2       13580 non-null  float64\n",
            " 11  Bathroom       13580 non-null  float64\n",
            " 12  Car            13518 non-null  float64\n",
            " 13  Landsize       13580 non-null  float64\n",
            " 14  BuildingArea   7130 non-null   float64\n",
            " 15  YearBuilt      8205 non-null   float64\n",
            " 16  CouncilArea    12211 non-null  object \n",
            " 17  Lattitude      13580 non-null  float64\n",
            " 18  Longtitude     13580 non-null  float64\n",
            " 19  Regionname     13580 non-null  object \n",
            " 20  Propertycount  13580 non-null  float64\n",
            "dtypes: float64(12), int64(1), object(8)\n",
            "memory usage: 2.2+ MB\n"
          ]
        }
      ]
    },
    {
      "cell_type": "markdown",
      "source": [
        "### Valores faltantes\n",
        "Las siguientes variables tienen datos faltantes:\n",
        "\n",
        "\n",
        "*   *YearBuilt*\n",
        "*   *BuildingArea*\n",
        "*   *CouncilArea*\n",
        "*   *Car*\n",
        "\n"
      ],
      "metadata": {
        "id": "rDzdQOe0oeS-"
      },
      "id": "rDzdQOe0oeS-"
    },
    {
      "cell_type": "code",
      "source": [
        "plt.figure(figsize=(25,25))\n",
        "seaborn.displot(\n",
        "    data=melb_df.isna().melt(value_name=\"missing\"),\n",
        "    y=\"variable\",\n",
        "    hue=\"missing\",\n",
        "    palette = \"colorblind\",\n",
        "    multiple=\"fill\",\n",
        "    aspect=1.25\n",
        ")"
      ],
      "metadata": {
        "id": "03uwKZvmnFZq",
        "colab": {
          "base_uri": "https://localhost:8080/",
          "height": 244
        },
        "outputId": "5ca8251d-ada9-4e3f-e40f-73ac6d6541bd"
      },
      "id": "03uwKZvmnFZq",
      "execution_count": null,
      "outputs": [
        {
          "output_type": "error",
          "ename": "NameError",
          "evalue": "ignored",
          "traceback": [
            "\u001b[0;31m---------------------------------------------------------------------------\u001b[0m",
            "\u001b[0;31mNameError\u001b[0m                                 Traceback (most recent call last)",
            "\u001b[0;32m<ipython-input-1-68688d400c6b>\u001b[0m in \u001b[0;36m<module>\u001b[0;34m()\u001b[0m\n\u001b[0;32m----> 1\u001b[0;31m \u001b[0mplt\u001b[0m\u001b[0;34m.\u001b[0m\u001b[0mfigure\u001b[0m\u001b[0;34m(\u001b[0m\u001b[0mfigsize\u001b[0m\u001b[0;34m=\u001b[0m\u001b[0;34m(\u001b[0m\u001b[0;36m25\u001b[0m\u001b[0;34m,\u001b[0m\u001b[0;36m25\u001b[0m\u001b[0;34m)\u001b[0m\u001b[0;34m)\u001b[0m\u001b[0;34m\u001b[0m\u001b[0;34m\u001b[0m\u001b[0m\n\u001b[0m\u001b[1;32m      2\u001b[0m seaborn.displot(\n\u001b[1;32m      3\u001b[0m     \u001b[0mdata\u001b[0m\u001b[0;34m=\u001b[0m\u001b[0mmelb_df\u001b[0m\u001b[0;34m.\u001b[0m\u001b[0misna\u001b[0m\u001b[0;34m(\u001b[0m\u001b[0;34m)\u001b[0m\u001b[0;34m.\u001b[0m\u001b[0mmelt\u001b[0m\u001b[0;34m(\u001b[0m\u001b[0mvalue_name\u001b[0m\u001b[0;34m=\u001b[0m\u001b[0;34m\"missing\"\u001b[0m\u001b[0;34m)\u001b[0m\u001b[0;34m,\u001b[0m\u001b[0;34m\u001b[0m\u001b[0;34m\u001b[0m\u001b[0m\n\u001b[1;32m      4\u001b[0m     \u001b[0my\u001b[0m\u001b[0;34m=\u001b[0m\u001b[0;34m\"variable\"\u001b[0m\u001b[0;34m,\u001b[0m\u001b[0;34m\u001b[0m\u001b[0;34m\u001b[0m\u001b[0m\n\u001b[1;32m      5\u001b[0m     \u001b[0mhue\u001b[0m\u001b[0;34m=\u001b[0m\u001b[0;34m\"missing\"\u001b[0m\u001b[0;34m,\u001b[0m\u001b[0;34m\u001b[0m\u001b[0;34m\u001b[0m\u001b[0m\n",
            "\u001b[0;31mNameError\u001b[0m: name 'plt' is not defined"
          ]
        }
      ]
    },
    {
      "cell_type": "markdown",
      "source": [
        "### Valores cero\n",
        "Vemos  valores 0 en las columnas\n",
        "*  *Bedrooms2* \n",
        "*  *Bathroom* \n",
        "*  *Car* \n",
        "*  *Landsize* \n",
        "*  *BuildingArea*\n"
      ],
      "metadata": {
        "id": "77CD1rp_sdOR"
      },
      "id": "77CD1rp_sdOR"
    },
    {
      "cell_type": "code",
      "source": [
        "min_values = melb_df.describe().loc['min']\n",
        "min_values.sort_values()"
      ],
      "metadata": {
        "colab": {
          "base_uri": "https://localhost:8080/"
        },
        "id": "6_lnqgjIq5bc",
        "outputId": "0581c3a3-75fc-422d-ce5f-da0eb5396f58"
      },
      "id": "6_lnqgjIq5bc",
      "execution_count": null,
      "outputs": [
        {
          "output_type": "execute_result",
          "data": {
            "text/plain": [
              "Lattitude         -38.18\n",
              "Distance            0.00\n",
              "Bedroom2            0.00\n",
              "Bathroom            0.00\n",
              "Car                 0.00\n",
              "Landsize            0.00\n",
              "BuildingArea        0.00\n",
              "Rooms               1.00\n",
              "Longtitude        144.43\n",
              "Propertycount     249.00\n",
              "YearBuilt        1196.00\n",
              "Postcode         3000.00\n",
              "Price           85000.00\n",
              "Name: min, dtype: float64"
            ]
          },
          "metadata": {},
          "execution_count": 12
        }
      ]
    },
    {
      "cell_type": "markdown",
      "source": [
        "Estos puede haber sido por causado por una mala recoleccion de datos, o falta de datos.  Recordemos que tenemos 13580 casos, por lo cual hay variables con una cantidad muy chica de ceros, y otras con una cantidad importante. La pregunta a responder es: Son estos ceros valores posibles de la variable o datos faltantes codificados asi?.*\n",
        "\n",
        "*Parece que hay variables con valores faltantes, que han sido reconocidos por pandas como NaN, y valores 0 que podrían ser tambien datos faltantes.*\n",
        "\n",
        "\n",
        "*En esta muestra vemos las variables Landsize, BuildingArea, YearBuilt. con problemas potenciales*\n",
        "\n",
        "*Landsize tiene valores 0.*\n",
        "\n",
        "*BuildingArea y YearBuilt tienen NaN*"
      ],
      "metadata": {
        "id": "kL5lUxwCqgpp"
      },
      "id": "kL5lUxwCqgpp"
    },
    {
      "cell_type": "code",
      "source": [
        "cols = melb_df[melb_df == 0].count(axis=0)\n",
        "ds = cols[cols > 0]\n",
        "ds"
      ],
      "metadata": {
        "colab": {
          "base_uri": "https://localhost:8080/"
        },
        "id": "7FqQ_MlcrlEB",
        "outputId": "40be6277-c5da-4830-be0b-5c3172959385"
      },
      "id": "7FqQ_MlcrlEB",
      "execution_count": null,
      "outputs": [
        {
          "output_type": "execute_result",
          "data": {
            "text/plain": [
              "Distance           6\n",
              "Bedroom2          16\n",
              "Bathroom          34\n",
              "Car             1026\n",
              "Landsize        1939\n",
              "BuildingArea      17\n",
              "dtype: int64"
            ]
          },
          "metadata": {},
          "execution_count": 24
        }
      ]
    },
    {
      "cell_type": "markdown",
      "source": [
        "\n",
        "\n",
        "---\n",
        "### Selección de variables\n",
        "Para seleccionar las variables que nos permitan predecir el precio de una propiedad, calculamos la matriz de correlación y fijamos la columna `Price`. Removemos columnas que no son numéricas en naturaleza: `Lattitude`, `Longitude`, `Postcode`\n",
        "\n",
        "\n"
      ],
      "metadata": {
        "id": "lEnmgh1-u8w3"
      },
      "id": "lEnmgh1-u8w3"
    },
    {
      "cell_type": "code",
      "source": [
        "melb_df.corr()['Price'].drop(['Lattitude', 'Longtitude', 'Postcode', 'Price']).sort_values()"
      ],
      "metadata": {
        "colab": {
          "base_uri": "https://localhost:8080/"
        },
        "id": "JtWYhh5nLPPK",
        "outputId": "c9e53bc5-4b3f-400f-e048-e8cc9e69ca2d"
      },
      "id": "JtWYhh5nLPPK",
      "execution_count": null,
      "outputs": [
        {
          "output_type": "execute_result",
          "data": {
            "text/plain": [
              "YearBuilt       -0.32\n",
              "Distance        -0.16\n",
              "Propertycount   -0.04\n",
              "Landsize         0.04\n",
              "BuildingArea     0.09\n",
              "Car              0.24\n",
              "Bathroom         0.47\n",
              "Bedroom2         0.48\n",
              "Rooms            0.50\n",
              "Name: Price, dtype: float64"
            ]
          },
          "metadata": {},
          "execution_count": 35
        }
      ]
    },
    {
      "cell_type": "markdown",
      "source": [
        "Vemos que la cantidad de habitaciones y baños (`Rooms`, `Bedroom2`, `Bathroom`) parecen ser los mejores predictores de precio. A su vez, la antiguedad de la construcción influye negativamente en el valor de una propiedad, y tanto la cantidad de propiedades en el suburbio (`Propertycount`) como el tamaño de la propiedad (`Landsize`) y la superficie construida (`BuildingArea`) parecen tener poca correlación con el precio"
      ],
      "metadata": {
        "id": "EshRM0n1lSSg"
      },
      "id": "EshRM0n1lSSg"
    },
    {
      "cell_type": "code",
      "source": [
        "relevant_cont_vars = ['Bedroom2', 'Rooms', 'Bathroom', 'YearBuilt']"
      ],
      "metadata": {
        "id": "SPcNs08NSnlM"
      },
      "id": "SPcNs08NSnlM",
      "execution_count": null,
      "outputs": []
    },
    {
      "cell_type": "markdown",
      "source": [
        "En cuanto a las variables categóricas, vamos a comenzar eliminando las siguientes columnas\n",
        "\n",
        "* `SellerG` (vendedor)\n",
        "* `Date` (fecha de la transaccion)\n",
        "* `Address` (dirección de la propiedad). En este caso particular, consideramos que esta información ya está presente en las columnas `Suburb`, `CouncilArea` y `Regionname`"
      ],
      "metadata": {
        "id": "8p7pw_X3QHye"
      },
      "id": "8p7pw_X3QHye"
    },
    {
      "cell_type": "code",
      "source": [
        "categorical_vars = melb_df.select_dtypes(include=['object']).columns.values\n"
      ],
      "metadata": {
        "id": "wNxm3C-xPxOV"
      },
      "id": "wNxm3C-xPxOV",
      "execution_count": null,
      "outputs": []
    },
    {
      "cell_type": "code",
      "source": [
        "categorical_df = melb_df[categorical_vars]\n",
        "categorical_df.nunique()"
      ],
      "metadata": {
        "colab": {
          "base_uri": "https://localhost:8080/"
        },
        "id": "5rMTUQpPQQW2",
        "outputId": "633b3e93-17bc-4fb8-c03c-6fd2f3298f41"
      },
      "id": "5rMTUQpPQQW2",
      "execution_count": null,
      "outputs": [
        {
          "output_type": "execute_result",
          "data": {
            "text/plain": [
              "Suburb           314\n",
              "Address        13378\n",
              "Type               3\n",
              "Method             5\n",
              "SellerG          268\n",
              "Date              58\n",
              "CouncilArea       33\n",
              "Regionname         8\n",
              "dtype: int64"
            ]
          },
          "metadata": {},
          "execution_count": 37
        }
      ]
    },
    {
      "cell_type": "code",
      "source": [
        "prop_type = {'u': 'Unidad (u)', 'h': 'Hotel (h)', 't': 'Townhouse(t)'}\n",
        "vs = { prop_type[tipo] : melb_df[melb_df['Type'] == tipo].Price.mean() for tipo in categorical_df.Type.unique()}\n",
        "sorted(vs.items(), key = lambda m: m[1], reverse= True)\n",
        "  "
      ],
      "metadata": {
        "colab": {
          "base_uri": "https://localhost:8080/"
        },
        "id": "qy14svbTT2uH",
        "outputId": "34cef1e7-b3d4-47ea-a16d-1a67b218f402"
      },
      "id": "qy14svbTT2uH",
      "execution_count": null,
      "outputs": [
        {
          "output_type": "execute_result",
          "data": {
            "text/plain": [
              "[('Hotel (h)', 1242664.761138745),\n",
              " ('Townhouse(t)', 933735.0538599641),\n",
              " ('Unidad (u)', 605127.4845873384)]"
            ]
          },
          "metadata": {},
          "execution_count": 94
        }
      ]
    },
    {
      "cell_type": "markdown",
      "source": [
        "Utilizando la media, podemos ver el tipo de propiedad afecta el precio de los inmuebles.  Con el siguiente gráfico verificamos que la media y la mediana no son (muy) distintas"
      ],
      "metadata": {
        "id": "pjY1OsdMWYRl"
      },
      "id": "pjY1OsdMWYRl"
    },
    {
      "cell_type": "code",
      "source": [
        "plt.figure(figsize=(15,10))\n",
        "plt.title('Precio de propiedad según el tipo')\n",
        "seaborn.boxplot(x=\"Type\", y=\"Price\",  data=melb_df, showmeans=True, meanprops={\"marker\":\".\",\n",
        "                       \"markerfacecolor\":\"white\", \n",
        "                       \"markeredgecolor\":\"black\",\n",
        "                      \"markersize\":\"10\"})"
      ],
      "metadata": {
        "colab": {
          "base_uri": "https://localhost:8080/",
          "height": 666
        },
        "outputId": "7760a90d-6f6a-443a-e9d7-b4ee6bd7d91e",
        "id": "qyWv5ScXVrPU"
      },
      "execution_count": null,
      "outputs": [
        {
          "output_type": "execute_result",
          "data": {
            "text/plain": [
              "<matplotlib.axes._subplots.AxesSubplot at 0x7f811a8bf9d0>"
            ]
          },
          "metadata": {},
          "execution_count": 96
        },
        {
          "output_type": "display_data",
          "data": {
            "text/plain": [
              "<Figure size 1080x720 with 1 Axes>"
            ],
            "image/png": "[encoded data removed]"
          },
          "metadata": {
            "needs_background": "light"
          }
        }
      ],
      "id": "qyWv5ScXVrPU"
    },
    {
      "cell_type": "markdown",
      "source": [
        "Respecto a la región (`Regionname`), vemos que también afecta al precio, aunque notamos que la cantidad de observaciones para esta variable no se encuentra balanceada"
      ],
      "metadata": {
        "id": "P6T8xFn9dABA"
      },
      "id": "P6T8xFn9dABA"
    },
    {
      "cell_type": "code",
      "source": [
        "categorical_df.Regionname.value_counts()"
      ],
      "metadata": {
        "colab": {
          "base_uri": "https://localhost:8080/"
        },
        "id": "ZJ3y0SvXS15Y",
        "outputId": "a131a2df-b5f2-4978-d4e0-ad7affc67342"
      },
      "id": "ZJ3y0SvXS15Y",
      "execution_count": null,
      "outputs": [
        {
          "output_type": "execute_result",
          "data": {
            "text/plain": [
              "Southern Metropolitan         4695\n",
              "Northern Metropolitan         3890\n",
              "Western Metropolitan          2948\n",
              "Eastern Metropolitan          1471\n",
              "South-Eastern Metropolitan     450\n",
              "Eastern Victoria                53\n",
              "Northern Victoria               41\n",
              "Western Victoria                32\n",
              "Name: Regionname, dtype: int64"
            ]
          },
          "metadata": {},
          "execution_count": 40
        }
      ]
    },
    {
      "cell_type": "code",
      "source": [
        "melb_df.groupby('Regionname')['Price'].agg(['mean', 'median']).sort_values(by='mean', ascending=False)"
      ],
      "metadata": {
        "colab": {
          "base_uri": "https://localhost:8080/",
          "height": 332
        },
        "id": "l-bhK_xea-0b",
        "outputId": "ce348797-92e5-46c4-c20d-54a3df57612f"
      },
      "id": "l-bhK_xea-0b",
      "execution_count": null,
      "outputs": [
        {
          "output_type": "execute_result",
          "data": {
            "text/plain": [
              "                                   mean       median\n",
              "Regionname                                          \n",
              "Southern Metropolitan      1,372,963.37 1,250,000.00\n",
              "Eastern Metropolitan       1,104,079.63 1,010,000.00\n",
              "South-Eastern Metropolitan   922,943.78   850,000.00\n",
              "Northern Metropolitan        898,171.08   806,250.00\n",
              "Western Metropolitan         866,420.52   793,000.00\n",
              "Eastern Victoria             699,980.79   670,000.00\n",
              "Northern Victoria            594,829.27   540,000.00\n",
              "Western Victoria             397,523.44   400,000.00"
            ],
            "text/html": [
              "\n",
              "  <div id=\"df-b4e8e9f3-3054-4457-88b0-68e3d18b84c1\">\n",
              "    <div class=\"colab-df-container\">\n",
              "      <div>\n",
              "<style scoped>\n",
              "    .dataframe tbody tr th:only-of-type {\n",
              "        vertical-align: middle;\n",
              "    }\n",
              "\n",
              "    .dataframe tbody tr th {\n",
              "        vertical-align: top;\n",
              "    }\n",
              "\n",
              "    .dataframe thead th {\n",
              "        text-align: right;\n",
              "    }\n",
              "</style>\n",
              "<table border=\"1\" class=\"dataframe\">\n",
              "  <thead>\n",
              "    <tr style=\"text-align: right;\">\n",
              "      <th></th>\n",
              "      <th>mean</th>\n",
              "      <th>median</th>\n",
              "    </tr>\n",
              "    <tr>\n",
              "      <th>Regionname</th>\n",
              "      <th></th>\n",
              "      <th></th>\n",
              "    </tr>\n",
              "  </thead>\n",
              "  <tbody>\n",
              "    <tr>\n",
              "      <th>Southern Metropolitan</th>\n",
              "      <td>1,372,963.37</td>\n",
              "      <td>1,250,000.00</td>\n",
              "    </tr>\n",
              "    <tr>\n",
              "      <th>Eastern Metropolitan</th>\n",
              "      <td>1,104,079.63</td>\n",
              "      <td>1,010,000.00</td>\n",
              "    </tr>\n",
              "    <tr>\n",
              "      <th>South-Eastern Metropolitan</th>\n",
              "      <td>922,943.78</td>\n",
              "      <td>850,000.00</td>\n",
              "    </tr>\n",
              "    <tr>\n",
              "      <th>Northern Metropolitan</th>\n",
              "      <td>898,171.08</td>\n",
              "      <td>806,250.00</td>\n",
              "    </tr>\n",
              "    <tr>\n",
              "      <th>Western Metropolitan</th>\n",
              "      <td>866,420.52</td>\n",
              "      <td>793,000.00</td>\n",
              "    </tr>\n",
              "    <tr>\n",
              "      <th>Eastern Victoria</th>\n",
              "      <td>699,980.79</td>\n",
              "      <td>670,000.00</td>\n",
              "    </tr>\n",
              "    <tr>\n",
              "      <th>Northern Victoria</th>\n",
              "      <td>594,829.27</td>\n",
              "      <td>540,000.00</td>\n",
              "    </tr>\n",
              "    <tr>\n",
              "      <th>Western Victoria</th>\n",
              "      <td>397,523.44</td>\n",
              "      <td>400,000.00</td>\n",
              "    </tr>\n",
              "  </tbody>\n",
              "</table>\n",
              "</div>\n",
              "      <button class=\"colab-df-convert\" onclick=\"convertToInteractive('df-b4e8e9f3-3054-4457-88b0-68e3d18b84c1')\"\n",
              "              title=\"Convert this dataframe to an interactive table.\"\n",
              "              style=\"display:none;\">\n",
              "        \n",
              "  <svg xmlns=\"http://www.w3.org/2000/svg\" height=\"24px\"viewBox=\"0 0 24 24\"\n",
              "       width=\"24px\">\n",
              "    <path d=\"M0 0h24v24H0V0z\" fill=\"none\"/>\n",
              "    <path d=\"M18.56 5.44l.94 2.06.94-2.06 2.06-.94-2.06-.94-.94-2.06-.94 2.06-2.06.94zm-11 1L8.5 8.5l.94-2.06 2.06-.94-2.06-.94L8.5 2.5l-.94 2.06-2.06.94zm10 10l.94 2.06.94-2.06 2.06-.94-2.06-.94-.94-2.06-.94 2.06-2.06.94z\"/><path d=\"M17.41 7.96l-1.37-1.37c-.4-.4-.92-.59-1.43-.59-.52 0-1.04.2-1.43.59L10.3 9.45l-7.72 7.72c-.78.78-.78 2.05 0 2.83L4 21.41c.39.39.9.59 1.41.59.51 0 1.02-.2 1.41-.59l7.78-7.78 2.81-2.81c.8-.78.8-2.07 0-2.86zM5.41 20L4 18.59l7.72-7.72 1.47 1.35L5.41 20z\"/>\n",
              "  </svg>\n",
              "      </button>\n",
              "      \n",
              "  <style>\n",
              "    .colab-df-container {\n",
              "      display:flex;\n",
              "      flex-wrap:wrap;\n",
              "      gap: 12px;\n",
              "    }\n",
              "\n",
              "    .colab-df-convert {\n",
              "      background-color: #E8F0FE;\n",
              "      border: none;\n",
              "      border-radius: 50%;\n",
              "      cursor: pointer;\n",
              "      display: none;\n",
              "      fill: #1967D2;\n",
              "      height: 32px;\n",
              "      padding: 0 0 0 0;\n",
              "      width: 32px;\n",
              "    }\n",
              "\n",
              "    .colab-df-convert:hover {\n",
              "      background-color: #E2EBFA;\n",
              "      box-shadow: 0px 1px 2px rgba(60, 64, 67, 0.3), 0px 1px 3px 1px rgba(60, 64, 67, 0.15);\n",
              "      fill: #174EA6;\n",
              "    }\n",
              "\n",
              "    [theme=dark] .colab-df-convert {\n",
              "      background-color: #3B4455;\n",
              "      fill: #D2E3FC;\n",
              "    }\n",
              "\n",
              "    [theme=dark] .colab-df-convert:hover {\n",
              "      background-color: #434B5C;\n",
              "      box-shadow: 0px 1px 3px 1px rgba(0, 0, 0, 0.15);\n",
              "      filter: drop-shadow(0px 1px 2px rgba(0, 0, 0, 0.3));\n",
              "      fill: #FFFFFF;\n",
              "    }\n",
              "  </style>\n",
              "\n",
              "      <script>\n",
              "        const buttonEl =\n",
              "          document.querySelector('#df-b4e8e9f3-3054-4457-88b0-68e3d18b84c1 button.colab-df-convert');\n",
              "        buttonEl.style.display =\n",
              "          google.colab.kernel.accessAllowed ? 'block' : 'none';\n",
              "\n",
              "        async function convertToInteractive(key) {\n",
              "          const element = document.querySelector('#df-b4e8e9f3-3054-4457-88b0-68e3d18b84c1');\n",
              "          const dataTable =\n",
              "            await google.colab.kernel.invokeFunction('convertToInteractive',\n",
              "                                                     [key], {});\n",
              "          if (!dataTable) return;\n",
              "\n",
              "          const docLinkHtml = 'Like what you see? Visit the ' +\n",
              "            '<a target=\"_blank\" href=https://colab.research.google.com/notebooks/data_table.ipynb>data table notebook</a>'\n",
              "            + ' to learn more about interactive tables.';\n",
              "          element.innerHTML = '';\n",
              "          dataTable['output_type'] = 'display_data';\n",
              "          await google.colab.output.renderOutput(dataTable, element);\n",
              "          const docLink = document.createElement('div');\n",
              "          docLink.innerHTML = docLinkHtml;\n",
              "          element.appendChild(docLink);\n",
              "        }\n",
              "      </script>\n",
              "    </div>\n",
              "  </div>\n",
              "  "
            ]
          },
          "metadata": {},
          "execution_count": 107
        }
      ]
    },
    {
      "cell_type": "code",
      "source": [
        "plt.figure(figsize=(25,10))\n",
        "plt.title('Precio de propiedad según Región')\n",
        "bp = seaborn.boxplot(x=\"Regionname\", y=\"Price\",  data=melb_df, showmeans=True, meanprops={\"marker\":\".\",\n",
        "                       \"markerfacecolor\":\"white\", \n",
        "                       \"markeredgecolor\":\"black\",\n",
        "                      \"markersize\":\"10\"})\n",
        "\n",
        "bp.set_xticklabels(bp.get_xticklabels(), rotation=45)\n",
        "pass"
      ],
      "metadata": {
        "colab": {
          "base_uri": "https://localhost:8080/",
          "height": 735
        },
        "id": "rGuGWCWYaM0B",
        "outputId": "31a45ce3-459c-4e3c-f348-3d6f99dca23a"
      },
      "id": "rGuGWCWYaM0B",
      "execution_count": null,
      "outputs": [
        {
          "output_type": "display_data",
          "data": {
            "text/plain": [
              "<Figure size 1800x720 with 1 Axes>"
            ],
            "image/png": "[encoded data removed]"
          },
          "metadata": {
            "needs_background": "light"
          }
        }
      ]
    },
    {
      "cell_type": "code",
      "source": [
        "categorical_df.Regionname.unique()"
      ],
      "metadata": {
        "colab": {
          "base_uri": "https://localhost:8080/"
        },
        "id": "FPvGyNnZTXuK",
        "outputId": "415015b9-c78f-439a-d8e0-ba5d6940f41c"
      },
      "id": "FPvGyNnZTXuK",
      "execution_count": null,
      "outputs": [
        {
          "output_type": "execute_result",
          "data": {
            "text/plain": [
              "array(['Northern Metropolitan', 'Western Metropolitan',\n",
              "       'Southern Metropolitan', 'Eastern Metropolitan',\n",
              "       'South-Eastern Metropolitan', 'Eastern Victoria',\n",
              "       'Northern Victoria', 'Western Victoria'], dtype=object)"
            ]
          },
          "metadata": {},
          "execution_count": 41
        }
      ]
    },
    {
      "cell_type": "markdown",
      "source": [
        "Vamos a trabajar con las variables **Rooms**, **Bathroom**, **Car**, **Type**, **Regionname**, **BuildingArea**, **Method**, **Landsize**, relacionada con la variable a predecir: **Price**. \n",
        "\n",
        "\n",
        "Para comenzar analizamos aquellas variables que describen la propiedad por si misma, de acuerdo a sus caracteristicas y considerando algunos aspectos esperados. Por ejemplo si el tipo de casa es `h` (*house*) se espera que tenga por lo menos 1 baño (*bathroom*), dormitorio (*bedroom2*) o 1 ambiente(*rooms*)."
      ],
      "metadata": {
        "id": "PadnPVHIu4lw"
      },
      "id": "PadnPVHIu4lw"
    },
    {
      "cell_type": "code",
      "source": [
        "interesting_variables = ['Rooms', 'Car', 'Type', 'Regionname', 'BuildingArea', 'Method', 'Landsize']"
      ],
      "metadata": {
        "id": "sSpFPB0ZvGen"
      },
      "id": "sSpFPB0ZvGen",
      "execution_count": null,
      "outputs": []
    },
    {
      "cell_type": "code",
      "source": [
        "seaborn.pairplot(data=melb_df,\n",
        "                 y_vars=['Bedroom2', 'Rooms'],\n",
        "                 x_vars=['Bathroom', 'Rooms'],\n",
        "                 aspect=2, height=3)"
      ],
      "metadata": {
        "colab": {
          "base_uri": "https://localhost:8080/",
          "height": 462
        },
        "id": "ogQ2FA_4x4R1",
        "outputId": "8a2c3e83-65ab-4a50-94f1-ed9255084011"
      },
      "id": "ogQ2FA_4x4R1",
      "execution_count": null,
      "outputs": [
        {
          "output_type": "execute_result",
          "data": {
            "text/plain": [
              "<seaborn.axisgrid.PairGrid at 0x7f811e7d0310>"
            ]
          },
          "metadata": {},
          "execution_count": 44
        },
        {
          "output_type": "display_data",
          "data": {
            "text/plain": [
              "<Figure size 864x432 with 5 Axes>"
            ],
            "image/png": "[encoded data removed]"
          },
          "metadata": {
            "needs_background": "light"
          }
        }
      ]
    },
    {
      "cell_type": "markdown",
      "source": [
        "Se puede observar un caso con 20 habitaciones (**Bedroom**), 1 baño (**Bathroom**) y 3 habitaciones (**Room**), lo cual es poco probable que sea asi, este caso nos estaria generando ruido."
      ],
      "metadata": {
        "id": "KPokOrZbG5Tm"
      },
      "id": "KPokOrZbG5Tm"
    },
    {
      "cell_type": "markdown",
      "source": [
        "Para la variable **Bedroom2**  vemos que existe una única ocurrencia para los valores **10** y **20**"
      ],
      "metadata": {
        "id": "stsQ9HL5IwPu"
      },
      "id": "stsQ9HL5IwPu"
    },
    {
      "cell_type": "code",
      "source": [
        "melb_df.Bedroom2.value_counts()"
      ],
      "metadata": {
        "colab": {
          "base_uri": "https://localhost:8080/"
        },
        "id": "u01bhVwsIljF",
        "outputId": "eb191537-1c5e-49e8-a5bd-a2a8d1332582"
      },
      "id": "u01bhVwsIljF",
      "execution_count": null,
      "outputs": [
        {
          "output_type": "execute_result",
          "data": {
            "text/plain": [
              "3.00     5896\n",
              "2.00     3737\n",
              "4.00     2601\n",
              "1.00      691\n",
              "5.00      556\n",
              "6.00       63\n",
              "0.00       16\n",
              "7.00       10\n",
              "8.00        5\n",
              "9.00        3\n",
              "20.00       1\n",
              "10.00       1\n",
              "Name: Bedroom2, dtype: int64"
            ]
          },
          "metadata": {},
          "execution_count": 45
        }
      ]
    },
    {
      "cell_type": "code",
      "source": [
        "fig, axes = plt.subplots(nrows=2, figsize=(16, 10))\n",
        "seaborn.countplot(data = melb_df[melb_df['Bedroom2'] <= 5.0], x = 'Bedroom2', ax = axes[0])\n",
        "\n",
        "seaborn.countplot(data = melb_df[melb_df['Bedroom2'] > 5.0], x = 'Bedroom2', ax = axes[1])"
      ],
      "metadata": {
        "colab": {
          "base_uri": "https://localhost:8080/",
          "height": 645
        },
        "id": "9FVFHK5xHluS",
        "outputId": "aae2f247-9ca7-4a3d-cb6c-ab8a837c6aed"
      },
      "id": "9FVFHK5xHluS",
      "execution_count": null,
      "outputs": [
        {
          "output_type": "execute_result",
          "data": {
            "text/plain": [
              "<matplotlib.axes._subplots.AxesSubplot at 0x7f811b598dd0>"
            ]
          },
          "metadata": {},
          "execution_count": 46
        },
        {
          "output_type": "display_data",
          "data": {
            "text/plain": [
              "<Figure size 1152x720 with 2 Axes>"
            ],
            "image/png": "[encoded data removed]"
          },
          "metadata": {
            "needs_background": "light"
          }
        }
      ]
    },
    {
      "cell_type": "markdown",
      "source": [
        "Considerando que la mediana de la variable **Bathroom** para aquellas propiedades que cumplen con `Bedroom2 == 2` tiene un valor de `1`, y que la media de `1.15`, podemos suponer que el valor de `20` es un error de carga, siendo que en realidad el valor es `2`"
      ],
      "metadata": {
        "id": "sRWBmQf8Ksv8"
      },
      "id": "sRWBmQf8Ksv8"
    },
    {
      "cell_type": "code",
      "source": [
        "melb_df[melb_df.Bedroom2 == 20]"
      ],
      "metadata": {
        "colab": {
          "base_uri": "https://localhost:8080/",
          "height": 191
        },
        "id": "yCE0hTuuLe8c",
        "outputId": "4d11cd25-2c33-4d44-8a69-95845b31a3fd"
      },
      "id": "yCE0hTuuLe8c",
      "execution_count": null,
      "outputs": [
        {
          "output_type": "execute_result",
          "data": {
            "text/plain": [
              "              Suburb      Address  Rooms Type      Price Method   SellerG  \\\n",
              "7404  Caulfield East  5 Grange Rd      3    h 1650000.00     PI  Woodards   \n",
              "\n",
              "           Date  Distance  Postcode  ...  Bathroom  Car  Landsize  \\\n",
              "7404  6/08/2016      9.30   3145.00  ...      1.00 2.00    875.00   \n",
              "\n",
              "      BuildingArea  YearBuilt  CouncilArea Lattitude  Longtitude  \\\n",
              "7404           NaN        NaN    Glen Eira    -37.88      145.05   \n",
              "\n",
              "                 Regionname Propertycount  \n",
              "7404  Southern Metropolitan        608.00  \n",
              "\n",
              "[1 rows x 21 columns]"
            ],
            "text/html": [
              "\n",
              "  <div id=\"df-c85cf697-96ae-4f2e-8509-68aa4bcfb7a7\">\n",
              "    <div class=\"colab-df-container\">\n",
              "      <div>\n",
              "<style scoped>\n",
              "    .dataframe tbody tr th:only-of-type {\n",
              "        vertical-align: middle;\n",
              "    }\n",
              "\n",
              "    .dataframe tbody tr th {\n",
              "        vertical-align: top;\n",
              "    }\n",
              "\n",
              "    .dataframe thead th {\n",
              "        text-align: right;\n",
              "    }\n",
              "</style>\n",
              "<table border=\"1\" class=\"dataframe\">\n",
              "  <thead>\n",
              "    <tr style=\"text-align: right;\">\n",
              "      <th></th>\n",
              "      <th>Suburb</th>\n",
              "      <th>Address</th>\n",
              "      <th>Rooms</th>\n",
              "      <th>Type</th>\n",
              "      <th>Price</th>\n",
              "      <th>Method</th>\n",
              "      <th>SellerG</th>\n",
              "      <th>Date</th>\n",
              "      <th>Distance</th>\n",
              "      <th>Postcode</th>\n",
              "      <th>...</th>\n",
              "      <th>Bathroom</th>\n",
              "      <th>Car</th>\n",
              "      <th>Landsize</th>\n",
              "      <th>BuildingArea</th>\n",
              "      <th>YearBuilt</th>\n",
              "      <th>CouncilArea</th>\n",
              "      <th>Lattitude</th>\n",
              "      <th>Longtitude</th>\n",
              "      <th>Regionname</th>\n",
              "      <th>Propertycount</th>\n",
              "    </tr>\n",
              "  </thead>\n",
              "  <tbody>\n",
              "    <tr>\n",
              "      <th>7404</th>\n",
              "      <td>Caulfield East</td>\n",
              "      <td>5 Grange Rd</td>\n",
              "      <td>3</td>\n",
              "      <td>h</td>\n",
              "      <td>1650000.00</td>\n",
              "      <td>PI</td>\n",
              "      <td>Woodards</td>\n",
              "      <td>6/08/2016</td>\n",
              "      <td>9.30</td>\n",
              "      <td>3145.00</td>\n",
              "      <td>...</td>\n",
              "      <td>1.00</td>\n",
              "      <td>2.00</td>\n",
              "      <td>875.00</td>\n",
              "      <td>NaN</td>\n",
              "      <td>NaN</td>\n",
              "      <td>Glen Eira</td>\n",
              "      <td>-37.88</td>\n",
              "      <td>145.05</td>\n",
              "      <td>Southern Metropolitan</td>\n",
              "      <td>608.00</td>\n",
              "    </tr>\n",
              "  </tbody>\n",
              "</table>\n",
              "<p>1 rows × 21 columns</p>\n",
              "</div>\n",
              "      <button class=\"colab-df-convert\" onclick=\"convertToInteractive('df-c85cf697-96ae-4f2e-8509-68aa4bcfb7a7')\"\n",
              "              title=\"Convert this dataframe to an interactive table.\"\n",
              "              style=\"display:none;\">\n",
              "        \n",
              "  <svg xmlns=\"http://www.w3.org/2000/svg\" height=\"24px\"viewBox=\"0 0 24 24\"\n",
              "       width=\"24px\">\n",
              "    <path d=\"M0 0h24v24H0V0z\" fill=\"none\"/>\n",
              "    <path d=\"M18.56 5.44l.94 2.06.94-2.06 2.06-.94-2.06-.94-.94-2.06-.94 2.06-2.06.94zm-11 1L8.5 8.5l.94-2.06 2.06-.94-2.06-.94L8.5 2.5l-.94 2.06-2.06.94zm10 10l.94 2.06.94-2.06 2.06-.94-2.06-.94-.94-2.06-.94 2.06-2.06.94z\"/><path d=\"M17.41 7.96l-1.37-1.37c-.4-.4-.92-.59-1.43-.59-.52 0-1.04.2-1.43.59L10.3 9.45l-7.72 7.72c-.78.78-.78 2.05 0 2.83L4 21.41c.39.39.9.59 1.41.59.51 0 1.02-.2 1.41-.59l7.78-7.78 2.81-2.81c.8-.78.8-2.07 0-2.86zM5.41 20L4 18.59l7.72-7.72 1.47 1.35L5.41 20z\"/>\n",
              "  </svg>\n",
              "      </button>\n",
              "      \n",
              "  <style>\n",
              "    .colab-df-container {\n",
              "      display:flex;\n",
              "      flex-wrap:wrap;\n",
              "      gap: 12px;\n",
              "    }\n",
              "\n",
              "    .colab-df-convert {\n",
              "      background-color: #E8F0FE;\n",
              "      border: none;\n",
              "      border-radius: 50%;\n",
              "      cursor: pointer;\n",
              "      display: none;\n",
              "      fill: #1967D2;\n",
              "      height: 32px;\n",
              "      padding: 0 0 0 0;\n",
              "      width: 32px;\n",
              "    }\n",
              "\n",
              "    .colab-df-convert:hover {\n",
              "      background-color: #E2EBFA;\n",
              "      box-shadow: 0px 1px 2px rgba(60, 64, 67, 0.3), 0px 1px 3px 1px rgba(60, 64, 67, 0.15);\n",
              "      fill: #174EA6;\n",
              "    }\n",
              "\n",
              "    [theme=dark] .colab-df-convert {\n",
              "      background-color: #3B4455;\n",
              "      fill: #D2E3FC;\n",
              "    }\n",
              "\n",
              "    [theme=dark] .colab-df-convert:hover {\n",
              "      background-color: #434B5C;\n",
              "      box-shadow: 0px 1px 3px 1px rgba(0, 0, 0, 0.15);\n",
              "      filter: drop-shadow(0px 1px 2px rgba(0, 0, 0, 0.3));\n",
              "      fill: #FFFFFF;\n",
              "    }\n",
              "  </style>\n",
              "\n",
              "      <script>\n",
              "        const buttonEl =\n",
              "          document.querySelector('#df-c85cf697-96ae-4f2e-8509-68aa4bcfb7a7 button.colab-df-convert');\n",
              "        buttonEl.style.display =\n",
              "          google.colab.kernel.accessAllowed ? 'block' : 'none';\n",
              "\n",
              "        async function convertToInteractive(key) {\n",
              "          const element = document.querySelector('#df-c85cf697-96ae-4f2e-8509-68aa4bcfb7a7');\n",
              "          const dataTable =\n",
              "            await google.colab.kernel.invokeFunction('convertToInteractive',\n",
              "                                                     [key], {});\n",
              "          if (!dataTable) return;\n",
              "\n",
              "          const docLinkHtml = 'Like what you see? Visit the ' +\n",
              "            '<a target=\"_blank\" href=https://colab.research.google.com/notebooks/data_table.ipynb>data table notebook</a>'\n",
              "            + ' to learn more about interactive tables.';\n",
              "          element.innerHTML = '';\n",
              "          dataTable['output_type'] = 'display_data';\n",
              "          await google.colab.output.renderOutput(dataTable, element);\n",
              "          const docLink = document.createElement('div');\n",
              "          docLink.innerHTML = docLinkHtml;\n",
              "          element.appendChild(docLink);\n",
              "        }\n",
              "      </script>\n",
              "    </div>\n",
              "  </div>\n",
              "  "
            ]
          },
          "metadata": {},
          "execution_count": 47
        }
      ]
    },
    {
      "cell_type": "code",
      "source": [
        "melb_df[melb_df.Bedroom2 == 2].Bathroom.describe()"
      ],
      "metadata": {
        "colab": {
          "base_uri": "https://localhost:8080/"
        },
        "id": "URsG_0g6LpFX",
        "outputId": "ea2cc17d-73a3-4432-f4eb-fbc7b83062b8"
      },
      "id": "URsG_0g6LpFX",
      "execution_count": null,
      "outputs": [
        {
          "output_type": "execute_result",
          "data": {
            "text/plain": [
              "count   3737.00\n",
              "mean       1.15\n",
              "std        0.38\n",
              "min        0.00\n",
              "25%        1.00\n",
              "50%        1.00\n",
              "75%        1.00\n",
              "max        3.00\n",
              "Name: Bathroom, dtype: float64"
            ]
          },
          "metadata": {},
          "execution_count": 48
        }
      ]
    },
    {
      "cell_type": "markdown",
      "source": [
        "Por otro lado, la variable **Landsize** se encuentra alejada de la media y la mediana de aquellas propiedades que cumplen con `Bedroom2 == 2`. Particularmente también se encuentra por encima del 75% de los datos."
      ],
      "metadata": {
        "id": "cghhjBiyM-7E"
      },
      "id": "cghhjBiyM-7E"
    },
    {
      "cell_type": "code",
      "source": [
        "melb_df[melb_df.Bedroom2 == 2].Landsize.describe()"
      ],
      "metadata": {
        "colab": {
          "base_uri": "https://localhost:8080/"
        },
        "id": "gHAo1UAhMeLv",
        "outputId": "c427cbe6-bf42-4a76-f461-b164ef654a36"
      },
      "id": "gHAo1UAhMeLv",
      "execution_count": null,
      "outputs": [
        {
          "output_type": "execute_result",
          "data": {
            "text/plain": [
              "count    3737.00\n",
              "mean      419.87\n",
              "std      1450.74\n",
              "min         0.00\n",
              "25%         0.00\n",
              "50%       158.00\n",
              "75%       373.00\n",
              "max     37000.00\n",
              "Name: Landsize, dtype: float64"
            ]
          },
          "metadata": {},
          "execution_count": 49
        }
      ]
    },
    {
      "cell_type": "code",
      "source": [
        "#airbnb_df --> contien informacion del archivo airbnb_price_by_zipcode  \n",
        "#df_melbourn --> contiene informacion de melbourn\n",
        "seaborn.pairplot(data=melb_df,\n",
        "                 y_vars=['Car', 'Rooms'],\n",
        "                 x_vars=['Bedroom2', 'Rooms'],\n",
        "                 aspect=2, height=3)\n"
      ],
      "metadata": {
        "colab": {
          "base_uri": "https://localhost:8080/",
          "height": 462
        },
        "id": "KqJLjeR14Ek7",
        "outputId": "c8d49b70-ed16-4baf-b3c5-682c2c3b3ed5"
      },
      "id": "KqJLjeR14Ek7",
      "execution_count": null,
      "outputs": [
        {
          "output_type": "execute_result",
          "data": {
            "text/plain": [
              "<seaborn.axisgrid.PairGrid at 0x7f811b5d08d0>"
            ]
          },
          "metadata": {},
          "execution_count": 50
        },
        {
          "output_type": "display_data",
          "data": {
            "text/plain": [
              "<Figure size 864x432 with 5 Axes>"
            ],
            "image/png": "[encoded data removed]"
          },
          "metadata": {
            "needs_background": "light"
          }
        }
      ]
    },
    {
      "cell_type": "markdown",
      "source": [
        "Se puede observar que para **Bedroom2** tiene un caso con valor 20 con 2 cocheras y 3 rooms lo cual no es algo razonable, considerando que dicho dato fue obtenido a traves de otra fuente de datos, lo cual puede tener algun tipo de sesgo, por este motivo se dejara de lado esta variable del estudio de prediccion del precio.\n",
        "\n",
        "\n",
        "\n"
      ],
      "metadata": {
        "id": "UL_8fJ9nH5wW"
      },
      "id": "UL_8fJ9nH5wW"
    },
    {
      "cell_type": "code",
      "source": [
        "\n",
        "seaborn.pairplot(data=melb_df,\n",
        "                 y_vars=['BuildingArea', 'Price'],\n",
        "                 x_vars=['YearBuilt', 'Price'],\n",
        "                 aspect=2, height=3)"
      ],
      "metadata": {
        "colab": {
          "base_uri": "https://localhost:8080/",
          "height": 462
        },
        "id": "ZNTZgesp1SX1",
        "outputId": "a74e2312-c26e-46e4-8b9c-2b383191e020"
      },
      "id": "ZNTZgesp1SX1",
      "execution_count": null,
      "outputs": [
        {
          "output_type": "execute_result",
          "data": {
            "text/plain": [
              "<seaborn.axisgrid.PairGrid at 0x7f811b203a50>"
            ]
          },
          "metadata": {},
          "execution_count": 51
        },
        {
          "output_type": "display_data",
          "data": {
            "text/plain": [
              "<Figure size 864x432 with 5 Axes>"
            ],
            "image/png": "[encoded data removed]"
          },
          "metadata": {
            "needs_background": "light"
          }
        }
      ]
    },
    {
      "cell_type": "code",
      "source": [
        "plt.figure(figsize=(15,10))\n",
        "plt.title('Price vs type')\n",
        "seaborn.boxplot(x=\"Type\", y=\"Price\",  data=melb_df)"
      ],
      "metadata": {
        "colab": {
          "base_uri": "https://localhost:8080/",
          "height": 665
        },
        "id": "3QHjZbm4BbyX",
        "outputId": "141fffa5-3eee-43c0-b9e9-677962ec861a"
      },
      "id": "3QHjZbm4BbyX",
      "execution_count": null,
      "outputs": [
        {
          "output_type": "execute_result",
          "data": {
            "text/plain": [
              "<matplotlib.axes._subplots.AxesSubplot at 0x7f811bb51310>"
            ]
          },
          "metadata": {},
          "execution_count": 52
        },
        {
          "output_type": "display_data",
          "data": {
            "text/plain": [
              "<Figure size 1080x720 with 1 Axes>"
            ],
            "image/png": "[encoded data removed]"
          },
          "metadata": {
            "needs_background": "light"
          }
        }
      ]
    },
    {
      "cell_type": "code",
      "source": [
        "seaborn.pairplot(data=melb_df, y_vars=['Price'],\n",
        "                 x_vars=['Type'],\n",
        "                 aspect=2, height=4)\n",
        "plt.xticks(rotation=45);"
      ],
      "metadata": {
        "colab": {
          "base_uri": "https://localhost:8080/",
          "height": 305
        },
        "id": "iQ6nPGemumke",
        "outputId": "cab425c6-808e-4efd-9ff6-a1516f84cec0"
      },
      "id": "iQ6nPGemumke",
      "execution_count": null,
      "outputs": [
        {
          "output_type": "display_data",
          "data": {
            "text/plain": [
              "<Figure size 576x288 with 1 Axes>"
            ],
            "image/png": "[encoded data removed]"
          },
          "metadata": {
            "needs_background": "light"
          }
        }
      ]
    },
    {
      "cell_type": "code",
      "source": [
        "seaborn.pairplot(data=melb_df, y_vars=['Price'],\n",
        "                 x_vars=['Regionname'],\n",
        "                 aspect=2, height=4)\n",
        "plt.xticks(rotation=45);"
      ],
      "metadata": {
        "id": "oQ0b-Qt4v19D"
      },
      "id": "oQ0b-Qt4v19D",
      "execution_count": null,
      "outputs": []
    },
    {
      "cell_type": "code",
      "source": [
        "seaborn.pairplot(data=melb_df, y_vars=['Price'],\n",
        "                 x_vars=['Method'],\n",
        "                 aspect=2, height=4)\n"
      ],
      "metadata": {
        "id": "2Q0Kdlsz1M-Z"
      },
      "id": "2Q0Kdlsz1M-Z",
      "execution_count": null,
      "outputs": []
    },
    {
      "cell_type": "markdown",
      "source": [
        "De las columnas analizadas podemos concluir lo siguiente:\n",
        "* Se considera que aquellas variables que informan sobre las caracteristicas \n",
        "del inmueble: **Bedroom2**, **car**, **Rooms**, **Bathrooms** son relevantes para el analisis de prediccion del Precio, dado que segun las graficas observadas puede apreciarse su distribucion es bastante razonable.\n",
        "* Con respecto a las variables: **Method** , **Type**, **Regionname**,también según las gráficas realizadas, se observa que son relevantes para el analisis de predicción por lo que se las incluirá en el dataset.\n",
        "\n",
        "* Por otro lado se observan valores no razonables de la variable **Bedroom2** la cual será eliminada del set de datos.\n"
      ],
      "metadata": {
        "id": "l0lZs5GbYkPd"
      },
      "id": "l0lZs5GbYkPd"
    },
    {
      "cell_type": "code",
      "source": [
        "melb_df.columns"
      ],
      "metadata": {
        "id": "0dSbY5NZ8BMK"
      },
      "id": "0dSbY5NZ8BMK",
      "execution_count": null,
      "outputs": []
    },
    {
      "cell_type": "code",
      "source": [
        "# se eliminara la columna Bedroom2 , previamente se efectuara una copia del dataframe.\n",
        "\n",
        "melb_df_bkp = melb_df.copy(deep=True)\n",
        "\n",
        "melb_df=melb_df.drop('Bedroom2',axis=1)\n",
        "\n",
        "melb_df.columns"
      ],
      "metadata": {
        "id": "U-5tUv-D7QvN"
      },
      "id": "U-5tUv-D7QvN",
      "execution_count": null,
      "outputs": []
    },
    {
      "cell_type": "markdown",
      "source": [
        "---\n",
        "## Ejercicio 2, parte 2 \n"
      ],
      "metadata": {
        "id": "aMSsoHQnhWtA"
      },
      "id": "aMSsoHQnhWtA"
    },
    {
      "cell_type": "markdown",
      "source": [
        "2. Agregar información adicional respectiva al entorno de una propiedad a partir del [conjunto de datos de AirBnB](https://www.kaggle.com/tylerx/melbourne-airbnb-open-data?select=cleansed_listings_dec18.csv) utilizado en el práctico. \n",
        "  1. Seleccionar qué variables agregar y qué combinaciones aplicar a cada una. Por ejemplo, pueden utilizar solo la columna `price`, o aplicar múltiples transformaciones como la mediana o el mínimo.\n",
        "  1. Utilizar la variable zipcode para unir los conjuntos de datos. Sólo incluir los zipcodes que tengan una cantidad mínima de registros (a elección) como para que la información agregada sea relevante.\n",
        "  2. Investigar al menos otras 2 variables que puedan servir para combinar los datos, y justificar si serían adecuadas o no. Pueden asumir que cuentan con la ayuda de anotadores expertos para encontrar equivalencias entre barrios o direcciones, o que cuentan con algoritmos para encontrar las n ubicaciones más cercanas a una propiedad a partir de sus coordenadas geográficas. **NO** es necesario que realicen la implementación."
      ],
      "metadata": {
        "id": "kisCq2mU3pUD"
      },
      "id": "kisCq2mU3pUD"
    },
    {
      "cell_type": "markdown",
      "source": [
        "1. *Analizamos las variables dadas en el archivo de AirBnB consideramos las mas relavantes:*"
      ],
      "metadata": {
        "id": "pp8jlSqpIDCl"
      },
      "id": "pp8jlSqpIDCl"
    },
    {
      "cell_type": "code",
      "source": [
        "interesting_cols = [\n",
        "  'description', 'neighborhood_overview',\n",
        "  'street', 'neighborhood', 'city', 'suburb', 'state', 'zipcode',\n",
        "  'price', 'weekly_price', 'monthly_price',\n",
        "  'latitude', 'longitude','property_type', 'bathrooms', 'bedrooms'\n",
        "]\n",
        "\n"
      ],
      "metadata": {
        "id": "Fe00kbGCnf00"
      },
      "id": "Fe00kbGCnf00",
      "execution_count": null,
      "outputs": []
    },
    {
      "cell_type": "code",
      "source": [
        "df_airbnb_adic = pandas.read_csv(\n",
        "    'https://cs.famaf.unc.edu.ar/~mteruel/datasets/diplodatos/cleansed_listings_dec18.csv',\n",
        "    usecols=interesting_cols)"
      ],
      "metadata": {
        "id": "YEMQGO2JH0NQ"
      },
      "id": "YEMQGO2JH0NQ",
      "execution_count": null,
      "outputs": []
    },
    {
      "cell_type": "code",
      "source": [
        "len(df_airbnb_adic)"
      ],
      "metadata": {
        "id": "-yEjwnehFXny"
      },
      "id": "-yEjwnehFXny",
      "execution_count": null,
      "outputs": []
    },
    {
      "cell_type": "code",
      "source": [
        "df_airbnb_adic.zipcode.value_counts()[:5]"
      ],
      "metadata": {
        "id": "0aM01v__FlDg"
      },
      "id": "0aM01v__FlDg",
      "execution_count": null,
      "outputs": []
    },
    {
      "cell_type": "markdown",
      "source": [
        " Sin embargo, la columna **zipcode** tiene tipos diferentes. Debemos estandarizarlo antes de continuar con la combinación de los dato"
      ],
      "metadata": {
        "id": "pmVBdjbvQObp"
      },
      "id": "pmVBdjbvQObp"
    },
    {
      "cell_type": "code",
      "source": [
        "df_airbnb_adic['zipcode'] = pandas.to_numeric(df_airbnb_adic.zipcode, errors='coerce')"
      ],
      "metadata": {
        "id": "RFlXwxJaQkmI"
      },
      "id": "RFlXwxJaQkmI",
      "execution_count": null,
      "outputs": []
    },
    {
      "cell_type": "code",
      "source": [
        "df_airbnb_adic.zipcode.value_counts()"
      ],
      "metadata": {
        "id": "p2ZYxtL6QtGG"
      },
      "id": "p2ZYxtL6QtGG",
      "execution_count": null,
      "outputs": []
    },
    {
      "cell_type": "markdown",
      "source": [
        "de esta forma unificamos el formato del campo zipcode. Y\n",
        "Necesitamos establecer una relación entre conjuntos de datos `df_melbourne` y `df_airbnb_adic` a través de este campo, pero primero debemos verificar que los codigos postales correspondan a la misma zona. Para ello primero realizaremos la intersección y realizamos un análisis al respecto:"
      ],
      "metadata": {
        "id": "tKkdnUpRRA1j"
      },
      "id": "tKkdnUpRRA1j"
    },
    {
      "cell_type": "code",
      "source": [
        "# buscamos la intersecion de los 248 valores de AIRBNB 191 tambien estan en melb \n",
        "intersection = numpy.intersect1d(\n",
        "    df_airbnb_adic.zipcode.values, melb_df.Postcode.values, assume_unique=False)\n",
        "print(\"Airbnb unique zipcodes\", len(df_airbnb_adic.zipcode.unique()))\n",
        "print(\"Sales unique zipcodes\", len(melb_df.Postcode.unique()))\n",
        "print(\"Common zipcodes\", len(intersection))"
      ],
      "metadata": {
        "id": "R6QOVf0jSF6c"
      },
      "id": "R6QOVf0jSF6c",
      "execution_count": null,
      "outputs": []
    },
    {
      "cell_type": "markdown",
      "source": [
        "Como se puede apreciar hay **248** valores de **zipcode** distintos en el conjunto de datos de *Airbnb* y **198** en el de **Melbourne**. A su vez hay **191** valores en común en ambos conjuntos de datos."
      ],
      "metadata": {
        "id": "HWXCdOUISTM7"
      },
      "id": "HWXCdOUISTM7"
    },
    {
      "cell_type": "code",
      "source": [
        "print('Records in Sales df with corresponding zipcode form Airbnb df',\n",
        "      melb_df.Postcode.isin(intersection).sum() / len(melb_df))\n",
        "print('Records in Airbnb df with corresponding zipcode form Sales df',\n",
        "      df_airbnb_adic.zipcode.isin(intersection).sum() / len(df_airbnb_adic))"
      ],
      "metadata": {
        "id": "uMKiuP8HTbXr"
      },
      "id": "uMKiuP8HTbXr",
      "execution_count": null,
      "outputs": []
    },
    {
      "cell_type": "markdown",
      "source": [
        "Se puede observar que hay un 99%  estan en la interseccion , no asi de los que estan en el dataframe de Airbnb. "
      ],
      "metadata": {
        "id": "g9fXrpelTi6j"
      },
      "id": "g9fXrpelTi6j"
    },
    {
      "cell_type": "markdown",
      "source": [
        "### Filtrado de zipcodes\n",
        "\n",
        "Eliminamos los valores de zipcode con tres o menos ocurrencias"
      ],
      "metadata": {
        "id": "HuW9NoxyIg-Y"
      },
      "id": "HuW9NoxyIg-Y"
    },
    {
      "cell_type": "code",
      "source": [
        "threshold = 3\n",
        "zipcode_counts = df_airbnb_adic.zipcode.value_counts()\n",
        "size_filter = zipcode_counts > threshold\n",
        "print(len(zipcode_counts[size_filter]))\n",
        "print(len(zipcode_counts[~size_filter]))\n",
        "\n",
        "selected_zipcodes = zipcode_counts[size_filter]"
      ],
      "metadata": {
        "id": "8V2N1hKB3A-h"
      },
      "id": "8V2N1hKB3A-h",
      "execution_count": null,
      "outputs": []
    },
    {
      "cell_type": "code",
      "source": [
        "selected_zipcodes = zipcode_counts[size_filter].index.array\n",
        "df_airbnb_adic = df_airbnb_adic[df_airbnb_adic.zipcode.isin(selected_zipcodes)]\n",
        "df_airbnb_adic.sample(5)"
      ],
      "metadata": {
        "id": "J1EPKyXHG8cT"
      },
      "id": "J1EPKyXHG8cT",
      "execution_count": null,
      "outputs": []
    },
    {
      "cell_type": "markdown",
      "source": [
        "Observamos que podemos agregar como datos: el promedio de precio semanal (*weekly_price*), promedio de precio mensual (*monthly_price*)."
      ],
      "metadata": {
        "id": "DWepuIBiXVqR"
      },
      "id": "DWepuIBiXVqR"
    },
    {
      "cell_type": "code",
      "source": [
        "relevant_cols = ['price', 'weekly_price', 'monthly_price']"
      ],
      "metadata": {
        "id": "6UKk9HkQXPmB"
      },
      "id": "6UKk9HkQXPmB",
      "execution_count": null,
      "outputs": []
    },
    {
      "cell_type": "code",
      "source": [
        "\n",
        "df_airbnb_adic[relevant_cols + ['zipcode']].groupby('zipcode').mean().reset_index()[:5]"
      ],
      "metadata": {
        "id": "OVVHWbLcXnmI"
      },
      "id": "OVVHWbLcXnmI",
      "execution_count": null,
      "outputs": []
    },
    {
      "cell_type": "code",
      "source": [
        "# Agregamos algunas columnas relevantes \n",
        "relevant_cols = ['price', 'weekly_price', 'monthly_price', 'zipcode', 'street', 'neighborhood', 'city','suburb']#, 'state', 'latitute', 'longitude']\n",
        "\n",
        "airbnb_price_by_zipcode = df_airbnb_adic[relevant_cols].groupby('zipcode')\\\n",
        "  .agg({'price': ['mean', 'count'], 'weekly_price': 'mean',\n",
        "        'monthly_price': 'mean', 'street': 'count', 'neighborhood': 'count', 'city': 'count','suburb': 'count'})\\\n",
        "  .reset_index()"
      ],
      "metadata": {
        "id": "i-Wk9w4QZpYA"
      },
      "id": "i-Wk9w4QZpYA",
      "execution_count": null,
      "outputs": []
    },
    {
      "cell_type": "code",
      "source": [
        "airbnb_price_by_zipcode"
      ],
      "metadata": {
        "id": "2RLPeho0aDMf"
      },
      "id": "2RLPeho0aDMf",
      "execution_count": null,
      "outputs": []
    },
    {
      "cell_type": "code",
      "source": [
        "# Flatten the two level columns\n",
        "airbnb_price_by_zipcode.columns = [\n",
        "  ' '.join(col).strip()\n",
        "  for col in airbnb_price_by_zipcode.columns.values]\n",
        "# Rename columns\n",
        "airbnb_price_by_zipcode = airbnb_price_by_zipcode.rename(\n",
        "    columns={'price mean': 'airbnb_price_mean',\n",
        "             'price count': 'airbnb_record_count',\n",
        "             'weekly_price mean': 'airbnb_weekly_price_mean',\n",
        "             'monthly_price mean': 'airbnb_monthly_price_mean'}\n",
        ")\n",
        "airbnb_price_by_zipcode[:3]"
      ],
      "metadata": {
        "id": "IK3Au9CyaG6o"
      },
      "id": "IK3Au9CyaG6o",
      "execution_count": null,
      "outputs": []
    },
    {
      "cell_type": "code",
      "source": [
        "# ahora hacemos la interseccion en pandas\n",
        "\n",
        "merged_sales_df = melb_df.merge(\n",
        "    airbnb_price_by_zipcode, how='left',\n",
        "    left_on='Postcode', right_on='zipcode')\n"
      ],
      "metadata": {
        "id": "TJ_um6B0cTdw"
      },
      "id": "TJ_um6B0cTdw",
      "execution_count": null,
      "outputs": []
    },
    {
      "cell_type": "code",
      "source": [
        "merged_sales_df[:3]"
      ],
      "metadata": {
        "id": "_NmHmPuac2ao"
      },
      "id": "_NmHmPuac2ao",
      "execution_count": null,
      "outputs": []
    },
    {
      "cell_type": "markdown",
      "source": [
        "### Punto 3 Otras columnas"
      ],
      "metadata": {
        "id": "Dz-Yctt2L9yj"
      },
      "id": "Dz-Yctt2L9yj"
    },
    {
      "cell_type": "markdown",
      "source": [
        "Para seleccionar columnas candidatas que sirvan para combinar ambos conjuntos de datos podemos plantear los siguientes criterios\n",
        "\n",
        "* Agrupar por variables estructurales. Por ejemplo, cantidad de habitaciones o baños\n",
        "* Agrupar por ubicación dentro del área urbana, como ser suburbio o barrio\n",
        "\n",
        "* Agregar por espacio para estacionar. Si bien no existe explícitamente en el conjunto de datos de airbnb, si se puede derivar a partir de la columna `amenities`\n",
        "* Por areas poligonales definidas en un catálogo. A partir de los valores de latitud y longitud (disponibles en ambos conjuntos de datos) se puede evaluar la pertenencia de la propiedad dentro de un area arbitraria.\n",
        "\n",
        "\n",
        "\n"
      ],
      "metadata": {
        "id": "d03Mykl6NyOD"
      },
      "id": "d03Mykl6NyOD"
    },
    {
      "cell_type": "markdown",
      "source": [
        "Finalmente tomamos las columas que indican\n",
        "* Cantidad de baños (`Bathroom` / `bathrooms`)\n",
        "* Ubicación de la propiedad (`Suburb` / `street`)\n",
        "\n",
        "La justificación se basa en que se analizan dimensiones distintas de cada propiedad, y que existe una correlación entre la cantidad de baños y otros parametros de una casa o departamento."
      ],
      "metadata": {
        "id": "adK5cOLDdyAq"
      },
      "id": "adK5cOLDdyAq"
    },
    {
      "cell_type": "markdown",
      "source": [
        "\n",
        "\n",
        "---\n",
        "\n"
      ],
      "metadata": {
        "id": "OxaF_gcKbLNl"
      },
      "id": "OxaF_gcKbLNl"
    },
    {
      "cell_type": "code",
      "source": [
        "melb_df.columns"
      ],
      "metadata": {
        "id": "hA-C8KXyL9g9"
      },
      "id": "hA-C8KXyL9g9",
      "execution_count": null,
      "outputs": []
    },
    {
      "cell_type": "code",
      "source": [
        "airbnb_df = pandas.read_csv(\n",
        "    'https://cs.famaf.unc.edu.ar/~mteruel/datasets/diplodatos/cleansed_listings_dec18.csv')\n",
        "\n",
        "airbnb_df.columns"
      ],
      "metadata": {
        "id": "SxLIDlJjMKXm"
      },
      "execution_count": null,
      "outputs": [],
      "id": "SxLIDlJjMKXm"
    },
    {
      "cell_type": "markdown",
      "source": [
        "#### Por ubicación\n",
        "\n",
        "Se puede hacer una correspondencia entre los valores la columna `Suburb` del conjunto de datos `melb_df` y un subconjunto de los presentes en la columna `street` del conjunto de datos `airbnb_df`"
      ],
      "metadata": {
        "id": "XgFGW5zdZvuy"
      },
      "id": "XgFGW5zdZvuy"
    },
    {
      "cell_type": "code",
      "source": [
        "melb_df.Suburb.value_counts()"
      ],
      "metadata": {
        "id": "Awo3xdrzYRCz"
      },
      "id": "Awo3xdrzYRCz",
      "execution_count": null,
      "outputs": []
    },
    {
      "cell_type": "code",
      "source": [
        "airbnb_df[airbnb_df.street.str.contains('Melbourne')].street.value_counts()"
      ],
      "metadata": {
        "id": "T11kKKhHYHJ1"
      },
      "id": "T11kKKhHYHJ1",
      "execution_count": null,
      "outputs": []
    },
    {
      "cell_type": "markdown",
      "source": [
        "#### Columna candidata: Tipo de propiedad\n",
        "\n",
        "Ambos conjuntos de datos tienen una columna que indica el tipo de propiedad. Esta columna ces "
      ],
      "metadata": {
        "id": "wxTYpO5QPgUt"
      },
      "id": "wxTYpO5QPgUt"
    },
    {
      "cell_type": "code",
      "source": [
        "airbnb_df.property_type.value_counts()"
      ],
      "metadata": {
        "id": "XJ24lxflOO6o"
      },
      "id": "XJ24lxflOO6o",
      "execution_count": null,
      "outputs": []
    },
    {
      "cell_type": "code",
      "source": [
        "melb_df.Type.value_counts()"
      ],
      "metadata": {
        "id": "eHY5FHsyObAG"
      },
      "id": "eHY5FHsyObAG",
      "execution_count": null,
      "outputs": []
    },
    {
      "cell_type": "markdown",
      "source": [
        "#### Columna candidata : Baños"
      ],
      "metadata": {
        "id": "f7aWpxNrUp31"
      },
      "id": "f7aWpxNrUp31"
    },
    {
      "cell_type": "code",
      "source": [
        "airbnb_df.bathrooms.value_counts()"
      ],
      "metadata": {
        "id": "xRH9DYzIOwaz"
      },
      "id": "xRH9DYzIOwaz",
      "execution_count": null,
      "outputs": []
    },
    {
      "cell_type": "code",
      "source": [
        "melb_df.Bathroom.value_counts()"
      ],
      "metadata": {
        "id": "IN-7PXHQOzX4"
      },
      "id": "IN-7PXHQOzX4",
      "execution_count": null,
      "outputs": []
    },
    {
      "cell_type": "markdown",
      "source": [
        "Si bien las distribuciones no son exactamente iguales (y deben curarse los casos donde figuran fracciones de baños), esta columna es una buena candidata ya que ambas variables presentan una distribución similar"
      ],
      "metadata": {
        "id": "FfzsXsVvc61d"
      },
      "id": "FfzsXsVvc61d"
    },
    {
      "cell_type": "code",
      "source": [
        "melb_df.Bathroom.describe()"
      ],
      "metadata": {
        "id": "fIgdQJNuddID"
      },
      "id": "fIgdQJNuddID",
      "execution_count": null,
      "outputs": []
    },
    {
      "cell_type": "code",
      "source": [
        "airbnb_df.bathrooms.describe()"
      ],
      "metadata": {
        "id": "Q9BkYPZadgcr"
      },
      "id": "Q9BkYPZadgcr",
      "execution_count": null,
      "outputs": []
    },
    {
      "cell_type": "code",
      "source": [
        "fig, (ax1, ax2) = plt.subplots(1, 2, figsize = (20, 20))\n",
        "plt.title('Cantidad de baños (airbnb vs melb)')\n",
        "\n",
        "seaborn.histplot(data = airbnb_df, x='bathrooms', ax=ax1)\n",
        "seaborn.histplot(data = melb_df, x='Bathroom', ax=ax2)"
      ],
      "metadata": {
        "id": "PpNLxCWDbVh6"
      },
      "id": "PpNLxCWDbVh6",
      "execution_count": null,
      "outputs": []
    },
    {
      "cell_type": "code",
      "source": [
        ""
      ],
      "metadata": {
        "id": "KO5F6BtndbDc"
      },
      "id": "KO5F6BtndbDc",
      "execution_count": null,
      "outputs": []
    },
    {
      "cell_type": "markdown",
      "source": [
        "#### Columna candidata: Espacio para estacionar"
      ],
      "metadata": {
        "id": "BqIIK3KXUuWe"
      },
      "id": "BqIIK3KXUuWe"
    },
    {
      "cell_type": "markdown",
      "source": [
        "Mas de `2/3` de las propiedades en el conjunto de datos de airbnb contienen espacio para estacionar"
      ],
      "metadata": {
        "id": "9Cj5xlmYVBLM"
      },
      "id": "9Cj5xlmYVBLM"
    },
    {
      "cell_type": "code",
      "source": [
        "def naive_parking_detector(s):\n",
        "  \"\"\"\n",
        "  Naive check to validate if an airbnb property includes parking space.\n",
        "  It assumes that the word 'parking' is not preceded or followed by a negative\n",
        "  modifier, such as 'no parking' or 'parking forbidden'. \n",
        "  Also, performance is not considered as a factor.\n",
        "  \"\"\"\n",
        "  r = s.replace(\"{\", \"\").replace(\"}\", \"\")\\\n",
        "  .replace('\"','').lower()\n",
        "\n",
        "  return 'parking' in r.lower()\n",
        "\n",
        "airbnb_df['car'] = airbnb_df.amenities.apply(naive_parking_detector)\n",
        "airbnb_df.car.value_counts()"
      ],
      "metadata": {
        "id": "DlziP26lVVt8"
      },
      "id": "DlziP26lVVt8",
      "execution_count": null,
      "outputs": []
    },
    {
      "cell_type": "markdown",
      "source": [
        "En el conjunto de datos de Melbourne, la proporción es aún mas alta."
      ],
      "metadata": {
        "id": "W8WZdmxeVWPH"
      },
      "id": "W8WZdmxeVWPH"
    },
    {
      "cell_type": "code",
      "source": [
        "print(len(melb_df))\n",
        "len(melb_df[melb_df.Car > 0])"
      ],
      "metadata": {
        "id": "xjCuXDlUVH6d"
      },
      "id": "xjCuXDlUVH6d",
      "execution_count": null,
      "outputs": []
    }
  ],
  "metadata": {
    "kernelspec": {
      "display_name": "Python 3",
      "language": "python",
      "name": "python3"
    },
    "language_info": {
      "codemirror_mode": {
        "name": "ipython",
        "version": 3
      },
      "file_extension": ".py",
      "mimetype": "text/x-python",
      "name": "python",
      "nbconvert_exporter": "python",
      "pygments_lexer": "ipython3",
      "version": "3.8.8"
    },
    "colab": {
      "name": "CuraciondeDatos_entregable_parte_1y2_reversionado.ipynb",
      "provenance": [],
      "collapsed_sections": [
        "aMSsoHQnhWtA",
        "Dz-Yctt2L9yj",
        "XgFGW5zdZvuy",
        "wxTYpO5QPgUt",
        "f7aWpxNrUp31",
        "BqIIK3KXUuWe"
      ],
      "include_colab_link": true
    }
  },
  "nbformat": 4,
  "nbformat_minor": 5
}